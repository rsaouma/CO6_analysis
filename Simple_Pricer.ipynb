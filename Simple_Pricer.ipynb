{
 "cells": [
  {
   "cell_type": "code",
   "execution_count": 8,
   "metadata": {
    "collapsed": true
   },
   "outputs": [],
   "source": [
    "import QuantLib as ql\n",
    "import math\n",
    "\n"
   ]
  },
  {
   "cell_type": "code",
   "execution_count": 41,
   "outputs": [],
   "source": [
    "calendar = ql.UnitedStates()\n",
    "bussiness_convention = ql.ModifiedFollowing\n",
    "settlement_days = 0\n",
    "day_count = ql.ActualActual()\n",
    "\n",
    "interest_rate = 0.00\n",
    "calc_date = ql.Date(7,9,2020)\n",
    "yield_curve = ql.FlatForward(calc_date,\n",
    "                             interest_rate,\n",
    "                             day_count,\n",
    "                             ql.Compounded,\n",
    "                             ql.Continuous)\n",
    "\n",
    "ql.Settings.instance().evaluationDate = calc_date\n",
    "option_maturity_date = ql.Date(26,1,2021)\n",
    "\n",
    "strike = 35\n",
    "spot = 44.55\n",
    "volatility = 0.485\n",
    "flavor = ql.Option.Put\n",
    "T = yield_curve.dayCounter().yearFraction(calc_date,\n",
    "                                          option_maturity_date)\n",
    "discount = yield_curve.discount(T)\n",
    "strikepayoff = ql.PlainVanillaPayoff(flavor, strike)\n",
    "stddev = volatility*math.sqrt(T)\n",
    "\n",
    "strikepayoff = ql.PlainVanillaPayoff(flavor, strike)\n",
    "black = ql.BlackCalculator(strikepayoff, spot, stddev, discount)"
   ],
   "metadata": {
    "collapsed": false,
    "pycharm": {
     "name": "#%%\n"
    }
   }
  },
  {
   "cell_type": "code",
   "execution_count": 42,
   "outputs": [
    {
     "name": "stdout",
     "output_type": "stream",
     "text": [
      "Option Price 1.4165507306301937\n",
      "Delta -0.1705947831013649\n",
      "Gamma 0.01890689441679403\n",
      "Theta -4.413357385478368\n",
      "Vega 7.014654679791329\n",
      "Rho -3.475275641015919\n"
     ]
    }
   ],
   "source": [
    "print(\"Option Price\", black.value() )\n",
    "print(\"Delta\", black.delta(spot) )\n",
    "print(\"Gamma\", black.gamma(spot) )\n",
    "print(\"Theta\", black.theta(spot, T) )\n",
    "print(\"Vega\", black.vega(T) )\n",
    "print(\"Rho\", black.rho( T) )"
   ],
   "metadata": {
    "collapsed": false,
    "pycharm": {
     "name": "#%%\n"
    }
   }
  },
  {
   "cell_type": "code",
   "execution_count": 43,
   "outputs": [
    {
     "data": {
      "text/plain": "1.0"
     },
     "execution_count": 43,
     "metadata": {},
     "output_type": "execute_result"
    }
   ],
   "source": [
    "discount"
   ],
   "metadata": {
    "collapsed": false,
    "pycharm": {
     "name": "#%%\n"
    }
   }
  },
  {
   "cell_type": "code",
   "execution_count": null,
   "outputs": [],
   "source": [
    "\n"
   ],
   "metadata": {
    "collapsed": false,
    "pycharm": {
     "name": "#%%\n"
    }
   }
  }
 ],
 "metadata": {
  "kernelspec": {
   "display_name": "Python 3",
   "language": "python",
   "name": "python3"
  },
  "language_info": {
   "codemirror_mode": {
    "name": "ipython",
    "version": 2
   },
   "file_extension": ".py",
   "mimetype": "text/x-python",
   "name": "python",
   "nbconvert_exporter": "python",
   "pygments_lexer": "ipython2",
   "version": "2.7.6"
  }
 },
 "nbformat": 4,
 "nbformat_minor": 0
}