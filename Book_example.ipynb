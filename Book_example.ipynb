{
 "cells": [
  {
   "cell_type": "markdown",
   "metadata": {
    "collapsed": true,
    "pycharm": {
     "name": "#%% md\n"
    }
   },
   "source": [
    "## Simple Option Pricing Example from Balaraman and Ballabio"
   ]
  },
  {
   "cell_type": "code",
   "execution_count": 1,
   "outputs": [
    {
     "ename": "ModuleNotFoundError",
     "evalue": "No module named 'QuantLib'",
     "output_type": "error",
     "traceback": [
      "\u001B[0;31m---------------------------------------------------------------------------\u001B[0m",
      "\u001B[0;31mModuleNotFoundError\u001B[0m                       Traceback (most recent call last)",
      "\u001B[0;32m/var/folders/r2/c2q433ns6xzdc69725d7zpk40000gn/T/ipykernel_17774/1847853737.py\u001B[0m in \u001B[0;36m<module>\u001B[0;34m\u001B[0m\n\u001B[1;32m      2\u001B[0m \u001B[0;32mfrom\u001B[0m \u001B[0mmatplotlib\u001B[0m \u001B[0;32mimport\u001B[0m \u001B[0mpyplot\u001B[0m \u001B[0;32mas\u001B[0m \u001B[0mplt\u001B[0m\u001B[0;34m\u001B[0m\u001B[0;34m\u001B[0m\u001B[0m\n\u001B[1;32m      3\u001B[0m \u001B[0;32mimport\u001B[0m \u001B[0mnumpy\u001B[0m \u001B[0;32mas\u001B[0m \u001B[0mnp\u001B[0m\u001B[0;34m\u001B[0m\u001B[0;34m\u001B[0m\u001B[0m\n\u001B[0;32m----> 4\u001B[0;31m \u001B[0;32mimport\u001B[0m \u001B[0mQuantLib\u001B[0m \u001B[0;32mas\u001B[0m \u001B[0mql\u001B[0m\u001B[0;34m\u001B[0m\u001B[0;34m\u001B[0m\u001B[0m\n\u001B[0m\u001B[1;32m      5\u001B[0m \u001B[0;32mimport\u001B[0m \u001B[0mdatetime\u001B[0m\u001B[0;34m\u001B[0m\u001B[0;34m\u001B[0m\u001B[0m\n\u001B[1;32m      6\u001B[0m \u001B[0;32mimport\u001B[0m \u001B[0meikon\u001B[0m \u001B[0;32mas\u001B[0m \u001B[0mek\u001B[0m\u001B[0;34m\u001B[0m\u001B[0;34m\u001B[0m\u001B[0m\n",
      "\u001B[0;31mModuleNotFoundError\u001B[0m: No module named 'QuantLib'"
     ]
    }
   ],
   "source": [
    "%matplotlib inline\n",
    "from matplotlib import pyplot as plt\n",
    "import numpy as np\n",
    "import QuantLib as ql\n",
    "import datetime\n",
    "import eikon as ek"
   ],
   "metadata": {
    "collapsed": false,
    "pycharm": {
     "name": "#%%\n"
    }
   }
  },
  {
   "cell_type": "code",
   "execution_count": 2,
   "outputs": [],
   "source": [
    "today_i = datetime.date.today()"
   ],
   "metadata": {
    "collapsed": false,
    "pycharm": {
     "name": "#%%\n"
    }
   }
  },
  {
   "cell_type": "code",
   "execution_count": 241,
   "outputs": [
    {
     "name": "stdout",
     "output_type": "stream",
     "text": [
      "Today's date: October 3rd, 2020\n"
     ]
    }
   ],
   "source": [
    "today = ql.Date(today_i.day,today_i.month, today_i.year)\n",
    "ql.Settings.instance().evaluationDate = today\n",
    "print(\"Today's date:\", today)"
   ],
   "metadata": {
    "collapsed": false,
    "pycharm": {
     "name": "#%%\n"
    }
   }
  },
  {
   "cell_type": "code",
   "execution_count": 242,
   "outputs": [],
   "source": [
    "option = ql.EuropeanOption(ql.PlainVanillaPayoff(ql.Option.Put, 35), ql.EuropeanExercise(ql.Date(26, ql.January, 2021)))\n",
    "u = ql.SimpleQuote(40.40)\n",
    "r = ql.SimpleQuote(0.01)\n",
    "sigma = ql.SimpleQuote(0.52)"
   ],
   "metadata": {
    "collapsed": false,
    "pycharm": {
     "name": "#%%\n"
    }
   }
  },
  {
   "cell_type": "code",
   "execution_count": 243,
   "outputs": [
    {
     "name": "stdout",
     "output_type": "stream",
     "text": [
      "2.1408279339784615\n"
     ]
    }
   ],
   "source": [
    "riskFreeCurve = ql.FlatForward(0, ql.TARGET(), ql.QuoteHandle(r), ql.Actual360())\n",
    "volatility = ql.BlackConstantVol(0, ql.TARGET(), ql.QuoteHandle(sigma), ql.Actual360())\n",
    "process = ql.BlackScholesProcess(ql.QuoteHandle(u), ql.YieldTermStructureHandle(riskFreeCurve),\n",
    "ql.BlackVolTermStructureHandle(volatility))\n",
    "engine = ql.AnalyticEuropeanEngine(process)\n",
    "option.setPricingEngine(engine)\n",
    "print(option.NPV())"
   ],
   "metadata": {
    "collapsed": false,
    "pycharm": {
     "name": "#%%\n"
    }
   }
  },
  {
   "cell_type": "code",
   "execution_count": 244,
   "outputs": [
    {
     "name": "stdout",
     "output_type": "stream",
     "text": [
      "-0.2581885330213955\n",
      "0.02745943650744379\n",
      "7.315325202710488\n"
     ]
    }
   ],
   "source": [
    "print(option.delta())\n",
    "print(option.gamma())\n",
    "print(option.vega())"
   ],
   "metadata": {
    "collapsed": false,
    "pycharm": {
     "name": "#%%\n"
    }
   }
  },
  {
   "cell_type": "code",
   "execution_count": 245,
   "outputs": [
    {
     "name": "stdout",
     "output_type": "stream",
     "text": [
      "24.390333966273385\n"
     ]
    }
   ],
   "source": [
    "u.setValue(10.50)\n",
    "print(option.NPV())"
   ],
   "metadata": {
    "collapsed": false,
    "pycharm": {
     "name": "#%%\n"
    }
   }
  },
  {
   "cell_type": "code",
   "execution_count": 246,
   "outputs": [
    {
     "name": "stdout",
     "output_type": "stream",
     "text": [
      "2.2141411941944504\n",
      "-0.016644852025509183\n",
      "October 3rd, 2020 October 4th, 2020\n"
     ]
    },
    {
     "data": {
      "text/plain": "<Figure size 432x288 with 1 Axes>",
      "image/png": "[encoded data removed]"
     },
     "metadata": {
      "needs_background": "light"
     },
     "output_type": "display_data"
    }
   ],
   "source": [
    "xs = np.linspace(25,55.0,400)\n",
    "ys = []\n",
    "for x in xs:\n",
    "    u.setValue(x)\n",
    "    ys.append(option.NPV())\n",
    "plt.plot(xs,ys,label = \"Spot\")\n",
    "\n",
    "\n",
    "\n",
    "u.setValue(40.40)\n",
    "r.setValue(0.01)\n",
    "sigma.setValue(0.53)\n",
    "print(option.NPV())\n",
    "\n",
    "\n",
    "\n",
    "\n",
    "print(option.thetaPerDay())\n",
    "\n",
    "\n",
    "\n",
    "shift_d = today + 1\n",
    "print(today,shift_d)\n",
    "ql.Settings.instance().evaluationDate = shift_d\n",
    "\n",
    "\n",
    "xs_s = xs\n",
    "ys_1 = []\n",
    "for x in xs:\n",
    "    u.setValue(x)\n",
    "    ys_1.append(option.NPV())\n",
    "\n",
    "plt.plot(xs_s, ys_1, '--')\n",
    "plt.show()"
   ],
   "metadata": {
    "collapsed": false,
    "pycharm": {
     "name": "#%%\n"
    }
   }
  },
  {
   "cell_type": "code",
   "execution_count": 247,
   "outputs": [],
   "source": [
    "\n",
    "ql.Settings.instance().evaluationDate = today"
   ],
   "metadata": {
    "collapsed": false,
    "pycharm": {
     "name": "#%%\n"
    }
   }
  },
  {
   "cell_type": "code",
   "execution_count": 248,
   "outputs": [
    {
     "name": "stdout",
     "output_type": "stream",
     "text": [
      "2.1972343880808136\n",
      "-0.16968749160132912\n"
     ]
    }
   ],
   "source": [
    "ql.Settings.instance().evaluationDate = today+3\n",
    "u.setValue(40.40)\n",
    "P0 = option.NPV(); print(P0)\n",
    "ql.Settings.instance().evaluationDate = today+4\n",
    "\n",
    "P1 = option.NPV()\n",
    "h = 1.0/365\n",
    "Theta = (P1-P0) ; print(Theta*10)\n",
    "ql.Settings.instance().evaluationDate = today"
   ],
   "metadata": {
    "collapsed": false,
    "pycharm": {
     "name": "#%%\n"
    }
   }
  },
  {
   "cell_type": "code",
   "execution_count": 249,
   "outputs": [
    {
     "data": {
      "text/plain": "115"
     },
     "execution_count": 249,
     "metadata": {},
     "output_type": "execute_result"
    }
   ],
   "source": [
    "ql.Date(26, ql.January, 2021) -today"
   ],
   "metadata": {
    "collapsed": false,
    "pycharm": {
     "name": "#%%\n"
    }
   }
  },
  {
   "cell_type": "code",
   "execution_count": 250,
   "outputs": [
    {
     "name": "stdout",
     "output_type": "stream",
     "text": [
      "-0.016644852025509183\n",
      "-0.016644852025509183\n"
     ]
    }
   ],
   "source": [
    "print(option.thetaPerDay())\n",
    "print(option.theta()/365)\n"
   ],
   "metadata": {
    "collapsed": false,
    "pycharm": {
     "name": "#%%\n"
    }
   }
  },
  {
   "cell_type": "code",
   "execution_count": 251,
   "outputs": [
    {
     "name": "stdout",
     "output_type": "stream",
     "text": [
      "1.7641522437166657\n"
     ]
    }
   ],
   "source": [
    "sigma0 = sigma.value() ; h = 0.0001\n",
    "sigma.setValue(sigma0+h) ; P_plus = option.NPV()\n",
    "sigma.setValue(sigma0)\n",
    "Vega = (P_plus - P0)*100 ; print(Vega)"
   ],
   "metadata": {
    "collapsed": false,
    "pycharm": {
     "name": "#%%\n"
    }
   }
  },
  {
   "cell_type": "code",
   "execution_count": 254,
   "outputs": [
    {
     "ename": "RuntimeError",
     "evalue": "root not bracketed: f[0.0001,4] -> [-4.000000e+01,-1.495297e+01]",
     "output_type": "error",
     "traceback": [
      "\u001B[0;31m---------------------------------------------------------------------------\u001B[0m",
      "\u001B[0;31mRuntimeError\u001B[0m                              Traceback (most recent call last)",
      "\u001B[0;32m<ipython-input-254-4085d5f976f9>\u001B[0m in \u001B[0;36m<module>\u001B[0;34m\u001B[0m\n\u001B[0;32m----> 1\u001B[0;31m \u001B[0mx\u001B[0m\u001B[0;34m=\u001B[0m\u001B[0moption\u001B[0m\u001B[0;34m.\u001B[0m\u001B[0mimpliedVolatility\u001B[0m\u001B[0;34m(\u001B[0m\u001B[0;36m40.0\u001B[0m\u001B[0;34m,\u001B[0m\u001B[0mprocess\u001B[0m\u001B[0;34m)\u001B[0m\u001B[0;34m\u001B[0m\u001B[0;34m\u001B[0m\u001B[0m\n\u001B[0m\u001B[1;32m      2\u001B[0m \u001B[0;34m\u001B[0m\u001B[0m\n\u001B[1;32m      3\u001B[0m \u001B[0;34m\u001B[0m\u001B[0m\n\u001B[1;32m      4\u001B[0m \u001B[0;34m\u001B[0m\u001B[0m\n",
      "\u001B[0;32m~/opt/anaconda3/envs/CO6_analysis/lib/python3.8/site-packages/QuantLib/QuantLib.py\u001B[0m in \u001B[0;36mimpliedVolatility\u001B[0;34m(self, targetValue, process, accuracy, maxEvaluations, minVol, maxVol)\u001B[0m\n\u001B[1;32m  11033\u001B[0m \u001B[0;34m\u001B[0m\u001B[0m\n\u001B[1;32m  11034\u001B[0m     \u001B[0;32mdef\u001B[0m \u001B[0mimpliedVolatility\u001B[0m\u001B[0;34m(\u001B[0m\u001B[0mself\u001B[0m\u001B[0;34m,\u001B[0m \u001B[0mtargetValue\u001B[0m\u001B[0;34m,\u001B[0m \u001B[0mprocess\u001B[0m\u001B[0;34m,\u001B[0m \u001B[0maccuracy\u001B[0m\u001B[0;34m=\u001B[0m\u001B[0;36m1.0e-4\u001B[0m\u001B[0;34m,\u001B[0m \u001B[0mmaxEvaluations\u001B[0m\u001B[0;34m=\u001B[0m\u001B[0;36m100\u001B[0m\u001B[0;34m,\u001B[0m \u001B[0mminVol\u001B[0m\u001B[0;34m=\u001B[0m\u001B[0;36m1.0e-4\u001B[0m\u001B[0;34m,\u001B[0m \u001B[0mmaxVol\u001B[0m\u001B[0;34m=\u001B[0m\u001B[0;36m4.0\u001B[0m\u001B[0;34m)\u001B[0m\u001B[0;34m:\u001B[0m\u001B[0;34m\u001B[0m\u001B[0;34m\u001B[0m\u001B[0m\n\u001B[0;32m> 11035\u001B[0;31m         \u001B[0;32mreturn\u001B[0m \u001B[0m_QuantLib\u001B[0m\u001B[0;34m.\u001B[0m\u001B[0mVanillaOption_impliedVolatility\u001B[0m\u001B[0;34m(\u001B[0m\u001B[0mself\u001B[0m\u001B[0;34m,\u001B[0m \u001B[0mtargetValue\u001B[0m\u001B[0;34m,\u001B[0m \u001B[0mprocess\u001B[0m\u001B[0;34m,\u001B[0m \u001B[0maccuracy\u001B[0m\u001B[0;34m,\u001B[0m \u001B[0mmaxEvaluations\u001B[0m\u001B[0;34m,\u001B[0m \u001B[0mminVol\u001B[0m\u001B[0;34m,\u001B[0m \u001B[0mmaxVol\u001B[0m\u001B[0;34m)\u001B[0m\u001B[0;34m\u001B[0m\u001B[0;34m\u001B[0m\u001B[0m\n\u001B[0m\u001B[1;32m  11036\u001B[0m \u001B[0;34m\u001B[0m\u001B[0m\n\u001B[1;32m  11037\u001B[0m     \u001B[0;32mdef\u001B[0m \u001B[0mpriceCurve\u001B[0m\u001B[0;34m(\u001B[0m\u001B[0mself\u001B[0m\u001B[0;34m)\u001B[0m\u001B[0;34m:\u001B[0m\u001B[0;34m\u001B[0m\u001B[0;34m\u001B[0m\u001B[0m\n",
      "\u001B[0;31mRuntimeError\u001B[0m: root not bracketed: f[0.0001,4] -> [-4.000000e+01,-1.495297e+01]"
     ]
    }
   ],
   "source": [
    "x=option.impliedVolatility(40.0,process)\n",
    "\n"
   ],
   "metadata": {
    "collapsed": false,
    "pycharm": {
     "name": "#%%\n"
    }
   }
  },
  {
   "cell_type": "code",
   "execution_count": 255,
   "outputs": [],
   "source": [
    "\n",
    "def getEuropeanOptionPrice(opt_type,u,s,expiry,sigma,r):\n",
    "\tif opt_type == \"Call\":\n",
    "        opt_type = ql.Option.Call\n",
    "    if opt_type ==\"Put\":\n",
    "        opt_type = ql.Option.Put\n",
    "\n",
    "\treturn opt_type"
   ],
   "metadata": {
    "collapsed": false,
    "pycharm": {
     "name": "#%%\n"
    }
   }
  },
  {
   "cell_type": "code",
   "execution_count": 259,
   "outputs": [],
   "source": [
    "x = getEuropeanOptionPrice(\"Put\",1,2,3,4,5)"
   ],
   "metadata": {
    "collapsed": false,
    "pycharm": {
     "name": "#%%\n"
    }
   }
  },
  {
   "cell_type": "code",
   "execution_count": 261,
   "outputs": [
    {
     "name": "stdout",
     "output_type": "stream",
     "text": [
      "<class 'int'>\n"
     ]
    }
   ],
   "source": [
    "print(type(x))\n"
   ],
   "metadata": {
    "collapsed": false,
    "pycharm": {
     "name": "#%%\n"
    }
   }
  },
  {
   "cell_type": "code",
   "execution_count": 5,
   "outputs": [],
   "source": [
    "import numpy as np\n",
    "import QuantLib as ql\n",
    "import datetime\n",
    "\n",
    "\n",
    "def european_option(val,exp,str,vol,typ,und,r):\n",
    "\n",
    "    opt_type = ql.Option.Put if typ==\"Put\" else ql.Option.Call\n",
    "    ql.Settings.instance().evaluationDate = ql.Date(val.day,val.month, val.year)\n",
    "\n",
    "\n",
    "\n",
    "\n",
    "    option = ql.EuropeanOption(ql.PlainVanillaPayoff(opt_type, str), ql.EuropeanExercise(ql.Date(exp.day,exp.month,exp.year)))\n",
    "    u = ql.SimpleQuote(und)\n",
    "    r = ql.SimpleQuote(r)\n",
    "    sigma = ql.SimpleQuote(vol)\n",
    "\n",
    "\n",
    "    riskFreeCurve = ql.FlatForward(0, ql.TARGET(), ql.QuoteHandle(r), ql.Actual360())\n",
    "    volatility = ql.BlackConstantVol(0, ql.TARGET(), ql.QuoteHandle(sigma), ql.Actual360())\n",
    "    process = ql.BlackScholesProcess(ql.QuoteHandle(u), ql.YieldTermStructureHandle(riskFreeCurve),\n",
    "    ql.BlackVolTermStructureHandle(volatility))\n",
    "    engine = ql.AnalyticEuropeanEngine(process)\n",
    "    option.setPricingEngine(engine)\n",
    "    output = {\"Value Date\": valuation_date,\"Underlying\":und, \"Implied Vol\": vol,'NPY': option.NPV(), 'delta':(option.delta()), 'gamma': (option.gamma()), 'vega': (option.vega()), 'theta': option.thetaPerDay()}\n",
    "\n",
    "    return output"
   ],
   "metadata": {
    "collapsed": false,
    "pycharm": {
     "name": "#%%\n"
    }
   }
  },
  {
   "cell_type": "code",
   "execution_count": 6,
   "outputs": [],
   "source": [
    "valuation_date = datetime.date(2020,10,20)\n",
    "expiry_date = datetime.date(2021,6,18)\n",
    "strike = 250\n",
    "vol = 0.203\n",
    "option_type = \"Call\"\n",
    "underlying = 210\n",
    "\n",
    "\n",
    "\n",
    "dict_1 = european_option(valuation_date,expiry_date,strike,vol,option_type,underlying,0.01)"
   ],
   "metadata": {
    "collapsed": false,
    "pycharm": {
     "name": "#%%\n"
    }
   }
  },
  {
   "cell_type": "code",
   "execution_count": 7,
   "outputs": [
    {
     "data": {
      "text/plain": "{'Value Date': datetime.date(2020, 10, 20),\n 'Underlying': 210,\n 'Implied Vol': 0.203,\n 'NPY': 3.097021330281647,\n 'delta': 0.17712514275365338,\n 'gamma': 0.007447104021707361,\n 'vega': 44.63099708161371,\n 'theta': -0.019473607078995172}"
     },
     "execution_count": 7,
     "metadata": {},
     "output_type": "execute_result"
    }
   ],
   "source": [
    "(dict_1)"
   ],
   "metadata": {
    "collapsed": false,
    "pycharm": {
     "name": "#%%\n"
    }
   }
  },
  {
   "cell_type": "code",
   "execution_count": 8,
   "outputs": [],
   "source": [
    "valuation_date = datetime.date(2020,10,6)\n"
   ],
   "metadata": {
    "collapsed": false,
    "pycharm": {
     "name": "#%%\n"
    }
   }
  },
  {
   "cell_type": "code",
   "execution_count": 9,
   "outputs": [],
   "source": [
    "import pandas as pd\n",
    "\n",
    "datelist = pd.date_range(datetime.date.today(), periods=35)"
   ],
   "metadata": {
    "collapsed": false,
    "pycharm": {
     "name": "#%%\n"
    }
   }
  },
  {
   "cell_type": "code",
   "execution_count": 10,
   "outputs": [
    {
     "data": {
      "text/plain": "Empty DataFrame\nColumns: [(Value Date,), (Underlying,), (Implied Vol,), (NPY,), (delta,), (gamma,), (vega,), (theta,)]\nIndex: []",
      "text/html": "<div>\n<style scoped>\n    .dataframe tbody tr th:only-of-type {\n        vertical-align: middle;\n    }\n\n    .dataframe tbody tr th {\n        vertical-align: top;\n    }\n\n    .dataframe thead tr th {\n        text-align: left;\n    }\n</style>\n<table border=\"1\" class=\"dataframe\">\n  <thead>\n    <tr>\n      <th></th>\n      <th>Value Date</th>\n      <th>Underlying</th>\n      <th>Implied Vol</th>\n      <th>NPY</th>\n      <th>delta</th>\n      <th>gamma</th>\n      <th>vega</th>\n      <th>theta</th>\n    </tr>\n  </thead>\n  <tbody>\n  </tbody>\n</table>\n</div>"
     },
     "execution_count": 10,
     "metadata": {},
     "output_type": "execute_result"
    }
   ],
   "source": [
    "output = pd.DataFrame(columns=[list(dict_1.keys())])\n",
    "output"
   ],
   "metadata": {
    "collapsed": false,
    "pycharm": {
     "name": "#%%\n"
    }
   }
  },
  {
   "cell_type": "code",
   "execution_count": 6,
   "outputs": [],
   "source": [
    "for d in datelist:\n",
    "\n",
    "    dict_1 = european_option(d,expiry_date,strike,vol,option_type,underlying,0.01)\n",
    "    v_list = (list(dict_1.values()))\n",
    "    df_len = len(output)\n",
    "    output.loc[df_len] = v_list"
   ],
   "metadata": {
    "collapsed": false,
    "pycharm": {
     "name": "#%%\n"
    }
   }
  },
  {
   "cell_type": "code",
   "execution_count": 7,
   "outputs": [
    {
     "data": {
      "text/plain": "    Value Date Underlying Implied Vol       NPY     delta     gamma      vega  \\\n0   2020-10-06         43        0.52  1.435131 -0.188400  0.022355  6.269084   \n1   2020-10-06         43        0.52  1.419853 -0.187646  0.022407  6.223737   \n2   2020-10-06         43        0.52  1.404539 -0.186881  0.022459  6.178124   \n3   2020-10-06         43        0.52  1.389187 -0.186105  0.022510  6.132238   \n4   2020-10-06         43        0.52  1.342909 -0.183708  0.022665  5.992915   \n5   2020-10-06         43        0.52  1.342909 -0.183708  0.022665  5.992915   \n6   2020-10-06         43        0.52  1.342909 -0.183708  0.022665  5.992915   \n7   2020-10-06         43        0.52  1.327408 -0.182885  0.022717  5.945904   \n8   2020-10-06         43        0.52  1.311869 -0.182050  0.022769  5.898601   \n9   2020-10-06         43        0.52  1.296294 -0.181203  0.022820  5.851001   \n10  2020-10-06         43        0.52  1.280681 -0.180342  0.022872  5.803101   \n11  2020-10-06         43        0.52  1.233621 -0.177680  0.023025  5.657549   \n12  2020-10-06         43        0.52  1.233621 -0.177680  0.023025  5.657549   \n13  2020-10-06         43        0.52  1.233621 -0.177680  0.023025  5.657549   \n14  2020-10-06         43        0.52  1.217860 -0.176765  0.023076  5.608398   \n15  2020-10-06         43        0.52  1.202063 -0.175835  0.023127  5.558922   \n16  2020-10-06         43        0.52  1.186229 -0.174891  0.023177  5.509116   \n17  2020-10-06         43        0.52  1.170359 -0.173932  0.023227  5.458975   \n18  2020-10-06         43        0.52  1.122531 -0.170961  0.023375  5.306485   \n19  2020-10-06         43        0.52  1.122531 -0.170961  0.023375  5.306485   \n20  2020-10-06         43        0.52  1.122531 -0.170961  0.023375  5.306485   \n21  2020-10-06         43        0.52  1.106517 -0.169938  0.023423  5.254948   \n22  2020-10-06         43        0.52  1.090468 -0.168899  0.023472  5.203046   \n23  2020-10-06         43        0.52  1.074384 -0.167842  0.023519  5.150775   \n24  2020-10-06         43        0.52  1.058265 -0.166768  0.023566  5.098129   \n25  2020-10-06         43        0.52  1.009706 -0.163435  0.023703  4.937870   \n26  2020-10-06         43        0.52  1.009706 -0.163435  0.023703  4.937870   \n27  2020-10-06         43        0.52  1.009706 -0.163435  0.023703  4.937870   \n28  2020-10-06         43        0.52  0.993454 -0.162286  0.023747  4.883655   \n29  2020-10-06         43        0.52  0.977169 -0.161117  0.023791  4.829032   \n30  2020-10-06         43        0.52  0.960852 -0.159927  0.023833  4.773992   \n31  2020-10-06         43        0.52  0.944505 -0.158717  0.023875  4.718529   \n32  2020-10-06         43        0.52  0.895283 -0.154956  0.023992  4.549524   \n33  2020-10-06         43        0.52  0.895283 -0.154956  0.023992  4.549524   \n34  2020-10-06         43        0.52  0.895283 -0.154956  0.023992  4.549524   \n\n       theta  \n0  -0.015050  \n1  -0.015086  \n2  -0.015123  \n3  -0.015160  \n4  -0.015270  \n5  -0.015270  \n6  -0.015270  \n7  -0.015307  \n8  -0.015344  \n9  -0.015380  \n10 -0.015417  \n11 -0.015527  \n12 -0.015527  \n13 -0.015527  \n14 -0.015563  \n15 -0.015599  \n16 -0.015635  \n17 -0.015671  \n18 -0.015777  \n19 -0.015777  \n20 -0.015777  \n21 -0.015812  \n22 -0.015847  \n23 -0.015881  \n24 -0.015915  \n25 -0.016014  \n26 -0.016014  \n27 -0.016014  \n28 -0.016046  \n29 -0.016077  \n30 -0.016108  \n31 -0.016139  \n32 -0.016225  \n33 -0.016225  \n34 -0.016225  ",
      "text/html": "<div>\n<style scoped>\n    .dataframe tbody tr th:only-of-type {\n        vertical-align: middle;\n    }\n\n    .dataframe tbody tr th {\n        vertical-align: top;\n    }\n\n    .dataframe thead tr th {\n        text-align: left;\n    }\n</style>\n<table border=\"1\" class=\"dataframe\">\n  <thead>\n    <tr>\n      <th></th>\n      <th>Value Date</th>\n      <th>Underlying</th>\n      <th>Implied Vol</th>\n      <th>NPY</th>\n      <th>delta</th>\n      <th>gamma</th>\n      <th>vega</th>\n      <th>theta</th>\n    </tr>\n  </thead>\n  <tbody>\n    <tr>\n      <th>0</th>\n      <td>2020-10-06</td>\n      <td>43</td>\n      <td>0.52</td>\n      <td>1.435131</td>\n      <td>-0.188400</td>\n      <td>0.022355</td>\n      <td>6.269084</td>\n      <td>-0.015050</td>\n    </tr>\n    <tr>\n      <th>1</th>\n      <td>2020-10-06</td>\n      <td>43</td>\n      <td>0.52</td>\n      <td>1.419853</td>\n      <td>-0.187646</td>\n      <td>0.022407</td>\n      <td>6.223737</td>\n      <td>-0.015086</td>\n    </tr>\n    <tr>\n      <th>2</th>\n      <td>2020-10-06</td>\n      <td>43</td>\n      <td>0.52</td>\n      <td>1.404539</td>\n      <td>-0.186881</td>\n      <td>0.022459</td>\n      <td>6.178124</td>\n      <td>-0.015123</td>\n    </tr>\n    <tr>\n      <th>3</th>\n      <td>2020-10-06</td>\n      <td>43</td>\n      <td>0.52</td>\n      <td>1.389187</td>\n      <td>-0.186105</td>\n      <td>0.022510</td>\n      <td>6.132238</td>\n      <td>-0.015160</td>\n    </tr>\n    <tr>\n      <th>4</th>\n      <td>2020-10-06</td>\n      <td>43</td>\n      <td>0.52</td>\n      <td>1.342909</td>\n      <td>-0.183708</td>\n      <td>0.022665</td>\n      <td>5.992915</td>\n      <td>-0.015270</td>\n    </tr>\n    <tr>\n      <th>5</th>\n      <td>2020-10-06</td>\n      <td>43</td>\n      <td>0.52</td>\n      <td>1.342909</td>\n      <td>-0.183708</td>\n      <td>0.022665</td>\n      <td>5.992915</td>\n      <td>-0.015270</td>\n    </tr>\n    <tr>\n      <th>6</th>\n      <td>2020-10-06</td>\n      <td>43</td>\n      <td>0.52</td>\n      <td>1.342909</td>\n      <td>-0.183708</td>\n      <td>0.022665</td>\n      <td>5.992915</td>\n      <td>-0.015270</td>\n    </tr>\n    <tr>\n      <th>7</th>\n      <td>2020-10-06</td>\n      <td>43</td>\n      <td>0.52</td>\n      <td>1.327408</td>\n      <td>-0.182885</td>\n      <td>0.022717</td>\n      <td>5.945904</td>\n      <td>-0.015307</td>\n    </tr>\n    <tr>\n      <th>8</th>\n      <td>2020-10-06</td>\n      <td>43</td>\n      <td>0.52</td>\n      <td>1.311869</td>\n      <td>-0.182050</td>\n      <td>0.022769</td>\n      <td>5.898601</td>\n      <td>-0.015344</td>\n    </tr>\n    <tr>\n      <th>9</th>\n      <td>2020-10-06</td>\n      <td>43</td>\n      <td>0.52</td>\n      <td>1.296294</td>\n      <td>-0.181203</td>\n      <td>0.022820</td>\n      <td>5.851001</td>\n      <td>-0.015380</td>\n    </tr>\n    <tr>\n      <th>10</th>\n      <td>2020-10-06</td>\n      <td>43</td>\n      <td>0.52</td>\n      <td>1.280681</td>\n      <td>-0.180342</td>\n      <td>0.022872</td>\n      <td>5.803101</td>\n      <td>-0.015417</td>\n    </tr>\n    <tr>\n      <th>11</th>\n      <td>2020-10-06</td>\n      <td>43</td>\n      <td>0.52</td>\n      <td>1.233621</td>\n      <td>-0.177680</td>\n      <td>0.023025</td>\n      <td>5.657549</td>\n      <td>-0.015527</td>\n    </tr>\n    <tr>\n      <th>12</th>\n      <td>2020-10-06</td>\n      <td>43</td>\n      <td>0.52</td>\n      <td>1.233621</td>\n      <td>-0.177680</td>\n      <td>0.023025</td>\n      <td>5.657549</td>\n      <td>-0.015527</td>\n    </tr>\n    <tr>\n      <th>13</th>\n      <td>2020-10-06</td>\n      <td>43</td>\n      <td>0.52</td>\n      <td>1.233621</td>\n      <td>-0.177680</td>\n      <td>0.023025</td>\n      <td>5.657549</td>\n      <td>-0.015527</td>\n    </tr>\n    <tr>\n      <th>14</th>\n      <td>2020-10-06</td>\n      <td>43</td>\n      <td>0.52</td>\n      <td>1.217860</td>\n      <td>-0.176765</td>\n      <td>0.023076</td>\n      <td>5.608398</td>\n      <td>-0.015563</td>\n    </tr>\n    <tr>\n      <th>15</th>\n      <td>2020-10-06</td>\n      <td>43</td>\n      <td>0.52</td>\n      <td>1.202063</td>\n      <td>-0.175835</td>\n      <td>0.023127</td>\n      <td>5.558922</td>\n      <td>-0.015599</td>\n    </tr>\n    <tr>\n      <th>16</th>\n      <td>2020-10-06</td>\n      <td>43</td>\n      <td>0.52</td>\n      <td>1.186229</td>\n      <td>-0.174891</td>\n      <td>0.023177</td>\n      <td>5.509116</td>\n      <td>-0.015635</td>\n    </tr>\n    <tr>\n      <th>17</th>\n      <td>2020-10-06</td>\n      <td>43</td>\n      <td>0.52</td>\n      <td>1.170359</td>\n      <td>-0.173932</td>\n      <td>0.023227</td>\n      <td>5.458975</td>\n      <td>-0.015671</td>\n    </tr>\n    <tr>\n      <th>18</th>\n      <td>2020-10-06</td>\n      <td>43</td>\n      <td>0.52</td>\n      <td>1.122531</td>\n      <td>-0.170961</td>\n      <td>0.023375</td>\n      <td>5.306485</td>\n      <td>-0.015777</td>\n    </tr>\n    <tr>\n      <th>19</th>\n      <td>2020-10-06</td>\n      <td>43</td>\n      <td>0.52</td>\n      <td>1.122531</td>\n      <td>-0.170961</td>\n      <td>0.023375</td>\n      <td>5.306485</td>\n      <td>-0.015777</td>\n    </tr>\n    <tr>\n      <th>20</th>\n      <td>2020-10-06</td>\n      <td>43</td>\n      <td>0.52</td>\n      <td>1.122531</td>\n      <td>-0.170961</td>\n      <td>0.023375</td>\n      <td>5.306485</td>\n      <td>-0.015777</td>\n    </tr>\n    <tr>\n      <th>21</th>\n      <td>2020-10-06</td>\n      <td>43</td>\n      <td>0.52</td>\n      <td>1.106517</td>\n      <td>-0.169938</td>\n      <td>0.023423</td>\n      <td>5.254948</td>\n      <td>-0.015812</td>\n    </tr>\n    <tr>\n      <th>22</th>\n      <td>2020-10-06</td>\n      <td>43</td>\n      <td>0.52</td>\n      <td>1.090468</td>\n      <td>-0.168899</td>\n      <td>0.023472</td>\n      <td>5.203046</td>\n      <td>-0.015847</td>\n    </tr>\n    <tr>\n      <th>23</th>\n      <td>2020-10-06</td>\n      <td>43</td>\n      <td>0.52</td>\n      <td>1.074384</td>\n      <td>-0.167842</td>\n      <td>0.023519</td>\n      <td>5.150775</td>\n      <td>-0.015881</td>\n    </tr>\n    <tr>\n      <th>24</th>\n      <td>2020-10-06</td>\n      <td>43</td>\n      <td>0.52</td>\n      <td>1.058265</td>\n      <td>-0.166768</td>\n      <td>0.023566</td>\n      <td>5.098129</td>\n      <td>-0.015915</td>\n    </tr>\n    <tr>\n      <th>25</th>\n      <td>2020-10-06</td>\n      <td>43</td>\n      <td>0.52</td>\n      <td>1.009706</td>\n      <td>-0.163435</td>\n      <td>0.023703</td>\n      <td>4.937870</td>\n      <td>-0.016014</td>\n    </tr>\n    <tr>\n      <th>26</th>\n      <td>2020-10-06</td>\n      <td>43</td>\n      <td>0.52</td>\n      <td>1.009706</td>\n      <td>-0.163435</td>\n      <td>0.023703</td>\n      <td>4.937870</td>\n      <td>-0.016014</td>\n    </tr>\n    <tr>\n      <th>27</th>\n      <td>2020-10-06</td>\n      <td>43</td>\n      <td>0.52</td>\n      <td>1.009706</td>\n      <td>-0.163435</td>\n      <td>0.023703</td>\n      <td>4.937870</td>\n      <td>-0.016014</td>\n    </tr>\n    <tr>\n      <th>28</th>\n      <td>2020-10-06</td>\n      <td>43</td>\n      <td>0.52</td>\n      <td>0.993454</td>\n      <td>-0.162286</td>\n      <td>0.023747</td>\n      <td>4.883655</td>\n      <td>-0.016046</td>\n    </tr>\n    <tr>\n      <th>29</th>\n      <td>2020-10-06</td>\n      <td>43</td>\n      <td>0.52</td>\n      <td>0.977169</td>\n      <td>-0.161117</td>\n      <td>0.023791</td>\n      <td>4.829032</td>\n      <td>-0.016077</td>\n    </tr>\n    <tr>\n      <th>30</th>\n      <td>2020-10-06</td>\n      <td>43</td>\n      <td>0.52</td>\n      <td>0.960852</td>\n      <td>-0.159927</td>\n      <td>0.023833</td>\n      <td>4.773992</td>\n      <td>-0.016108</td>\n    </tr>\n    <tr>\n      <th>31</th>\n      <td>2020-10-06</td>\n      <td>43</td>\n      <td>0.52</td>\n      <td>0.944505</td>\n      <td>-0.158717</td>\n      <td>0.023875</td>\n      <td>4.718529</td>\n      <td>-0.016139</td>\n    </tr>\n    <tr>\n      <th>32</th>\n      <td>2020-10-06</td>\n      <td>43</td>\n      <td>0.52</td>\n      <td>0.895283</td>\n      <td>-0.154956</td>\n      <td>0.023992</td>\n      <td>4.549524</td>\n      <td>-0.016225</td>\n    </tr>\n    <tr>\n      <th>33</th>\n      <td>2020-10-06</td>\n      <td>43</td>\n      <td>0.52</td>\n      <td>0.895283</td>\n      <td>-0.154956</td>\n      <td>0.023992</td>\n      <td>4.549524</td>\n      <td>-0.016225</td>\n    </tr>\n    <tr>\n      <th>34</th>\n      <td>2020-10-06</td>\n      <td>43</td>\n      <td>0.52</td>\n      <td>0.895283</td>\n      <td>-0.154956</td>\n      <td>0.023992</td>\n      <td>4.549524</td>\n      <td>-0.016225</td>\n    </tr>\n  </tbody>\n</table>\n</div>"
     },
     "execution_count": 7,
     "metadata": {},
     "output_type": "execute_result"
    }
   ],
   "source": [
    "output"
   ],
   "metadata": {
    "collapsed": false,
    "pycharm": {
     "name": "#%%\n"
    }
   }
  },
  {
   "cell_type": "code",
   "execution_count": 8,
   "outputs": [],
   "source": [
    "output.to_csv('Output.csv')\n",
    "\n",
    "\n"
   ],
   "metadata": {
    "collapsed": false,
    "pycharm": {
     "name": "#%%\n"
    }
   }
  },
  {
   "cell_type": "code",
   "execution_count": 30,
   "outputs": [
    {
     "data": {
      "text/plain": "<Figure size 432x288 with 0 Axes>"
     },
     "metadata": {},
     "output_type": "display_data"
    },
    {
     "data": {
      "text/plain": "<Figure size 720x1440 with 7 Axes>",
      "image/png": "[encoded data removed]"
     },
     "metadata": {
      "needs_background": "light"
     },
     "output_type": "display_data"
    }
   ],
   "source": [
    "from matplotlib import pyplot as plt\n",
    "plt.figure()\n",
    "out = output.plot.line( subplots=True, figsize= (10,20))\n",
    "\n",
    "plt.savefig(\"graph.png\")\n"
   ],
   "metadata": {
    "collapsed": false,
    "pycharm": {
     "name": "#%%\n"
    }
   }
  },
  {
   "cell_type": "code",
   "execution_count": null,
   "outputs": [],
   "source": [
    "\n"
   ],
   "metadata": {
    "collapsed": false,
    "pycharm": {
     "name": "#%%\n"
    }
   }
  }
 ],
 "metadata": {
  "kernelspec": {
   "display_name": "Python 3",
   "language": "python",
   "name": "python3"
  },
  "language_info": {
   "codemirror_mode": {
    "name": "ipython",
    "version": 2
   },
   "file_extension": ".py",
   "mimetype": "text/x-python",
   "name": "python",
   "nbconvert_exporter": "python",
   "pygments_lexer": "ipython2",
   "version": "2.7.6"
  }
 },
 "nbformat": 4,
 "nbformat_minor": 0
}