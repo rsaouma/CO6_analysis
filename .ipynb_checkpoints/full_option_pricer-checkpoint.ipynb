{
 "cells": [
  {
   "cell_type": "code",
   "execution_count": 1,
   "metadata": {},
   "outputs": [
    {
     "name": "stdout",
     "output_type": "stream",
     "text": [
      "NPV:  1.9978535003792846\n"
     ]
    }
   ],
   "source": [
    "\n",
    "\n",
    "\n",
    "from QuantLib import *\n",
    "\n",
    "\n",
    "###################################################\n",
    "##1) Inputs\n",
    "###################################################\n",
    "\n",
    "#Dates\n",
    "valuation_date = Date(8,9,2020)\n",
    "expiry_date = Date(27,1,2021)\n",
    "\n",
    "#Terms and conditions\n",
    "strike_price = 35\n",
    "put_or_call = Option.Put\n",
    "\n",
    "#Market data\n",
    "interest_rate = SimpleQuote(0.0007)\n",
    "#See idivs.org for expected dividend yields\n",
    "dividend_rate = SimpleQuote(0.00)\n",
    "#Dummy volatility necessary to setup process\n",
    "volatility_rate = SimpleQuote(0.505)\n",
    "underlying_price = SimpleQuote(42.33)\n",
    "\n",
    "market_value = 2.10\n",
    "Settings.instance().evaluation_date = valuation_date\n",
    "\n",
    "def getProcess(interest_rate, dividend_rate, underlying_price, volatility_rate):\n",
    "\n",
    "\t###################################################\n",
    "\t##2) Date setup\n",
    "\t###################################################\n",
    "\n",
    "\t#Assumptions\n",
    "\tcalendar = UnitedStates()\n",
    "\tday_counter = ActualActual()\n",
    "\n",
    "\n",
    "\n",
    "\n",
    "\t###################################################\n",
    "\t##3)\n",
    "\t#Curve setup\n",
    "\t###################################################\n",
    "\n",
    "\tinterest_curve = FlatForward(valuation_date, QuoteHandle(interest_rate), day_counter )\n",
    "\n",
    "\tdividend_curve = FlatForward(valuation_date, QuoteHandle(dividend_rate), day_counter )\n",
    "\n",
    "\tvolatility_curve = BlackConstantVol(valuation_date, calendar, QuoteHandle(volatility_rate), day_counter )\n",
    "\n",
    "\t#Collate market data together\n",
    "\tu = QuoteHandle(underlying_price)\n",
    "\td = YieldTermStructureHandle(dividend_curve)\n",
    "\tr = YieldTermStructureHandle(interest_curve)\n",
    "\tv = BlackVolTermStructureHandle(volatility_curve)\n",
    "\n",
    "\treturn BlackScholesMertonProcess(u, d, r, v)\n",
    "\n",
    "\n",
    "###################################################\n",
    "##4)\n",
    "#Option setup\n",
    "###################################################\n",
    "\n",
    "def getAmericanOption(valuation_date, expiry_date, put_or_call, strike_price, process):\n",
    "    grid_points = 100\n",
    "\n",
    "    exercise = AmericanExercise(valuation_date, expiry_date)\n",
    "\n",
    "    payoff = PlainVanillaPayoff(put_or_call, strike_price)\n",
    "\n",
    "\t#Option Setup\n",
    "    option =  VanillaOption(payoff, exercise)\n",
    "\n",
    "    time_steps = 1000\n",
    "    xGrid = 1000\n",
    "\n",
    "\n",
    "    engine = FdBlackScholesVanillaEngine(process, time_steps, xGrid)\n",
    "\n",
    "    option.setPricingEngine(engine)\n",
    "\n",
    "    return option\n",
    "\n",
    "\n",
    "###################################################\n",
    "##5)\n",
    "##Collate results\n",
    "###################################################\n",
    "\n",
    "def getAmericanPrice(option):\n",
    "    print(\"NPV: \", option.NPV())\n",
    "\n",
    "\n",
    "\n",
    "\n",
    "\n",
    "\n",
    "process = getProcess( interest_rate, dividend_rate, underlying_price, volatility_rate)\n",
    "\n",
    "option = getAmericanOption( valuation_date, expiry_date, put_or_call, strike_price, process)\n",
    "\n",
    "\n",
    "###################################################\n",
    "##6)\n",
    "##Calibrate implied volatility\n",
    "###################################################\n",
    "implied_volatility_rate = option.impliedVolatility(market_value, process)\n",
    "\n",
    "\n",
    "#volatility_rate.setValue(implied_volatility_rate)\n",
    "\n",
    "\n",
    "getAmericanPrice(option)"
   ]
  },
  {
   "cell_type": "code",
   "execution_count": 2,
   "metadata": {
    "pycharm": {
     "name": "#%%\n"
    }
   },
   "outputs": [
    {
     "data": {
      "text/plain": [
       "1.9978535003792846"
      ]
     },
     "execution_count": 2,
     "metadata": {},
     "output_type": "execute_result"
    }
   ],
   "source": [
    "option.NPV()"
   ]
  },
  {
   "cell_type": "code",
   "execution_count": 3,
   "metadata": {
    "pycharm": {
     "name": "#%%\n"
    }
   },
   "outputs": [
    {
     "data": {
      "text/plain": [
       "0.5179769553789837"
      ]
     },
     "execution_count": 3,
     "metadata": {},
     "output_type": "execute_result"
    }
   ],
   "source": [
    "implied_volatility_rate"
   ]
  },
  {
   "cell_type": "code",
   "execution_count": 3,
   "metadata": {
    "pycharm": {
     "name": "#%%\n"
    }
   },
   "outputs": [],
   "source": []
  },
  {
   "cell_type": "code",
   "execution_count": 4,
   "metadata": {
    "pycharm": {
     "name": "#%%\n"
    }
   },
   "outputs": [
    {
     "name": "stdout",
     "output_type": "stream",
     "text": [
      "-0.17516599353536444\n",
      "0.01925012175663099\n"
     ]
    }
   ],
   "source": [
    "u0 = (underlying_price.value())\n",
    "p0 = option.NPV()\n",
    "\n",
    "h = 0.01\n",
    "underlying_price.setValue(u0+h)\n",
    "P_plus = option.NPV()\n",
    "underlying_price.setValue(u0-h)\n",
    "P_minus = option.NPV()\n",
    "underlying_price.setValue(u0)\n",
    "\n",
    "delta = (P_plus - P_minus) / (2*h)\n",
    "gamma =  (P_plus - 2*p0 + P_minus) / (h*h)\n",
    "\n",
    "print ( delta)\n",
    "print ( gamma )\n"
   ]
  },
  {
   "cell_type": "code",
   "execution_count": 5,
   "metadata": {
    "pycharm": {
     "name": "#%%\n"
    }
   },
   "outputs": [
    {
     "name": "stdout",
     "output_type": "stream",
     "text": [
      "7.199039082375069\n"
     ]
    }
   ],
   "source": [
    "h = 0.0001\n",
    "sigma0 = volatility_rate.value()\n",
    "volatility_rate.setValue(sigma0+h)\n",
    "P_plus = option.NPV()\n",
    "volatility_rate.setValue(sigma0)\n",
    "vega = (P_plus - p0)/h\n",
    "print(vega)"
   ]
  },
  {
   "cell_type": "code",
   "execution_count": 6,
   "metadata": {
    "pycharm": {
     "name": "#%%\n"
    }
   },
   "outputs": [
    {
     "name": "stdout",
     "output_type": "stream",
     "text": [
      "0.0\n"
     ]
    }
   ],
   "source": [
    "Settings_instance().evaluationDate = valuation_date - 1\n",
    "process = getProcess( interest_rate, dividend_rate, underlying_price, volatility_rate)\n",
    "\n",
    "option = getAmericanOption( valuation_date, expiry_date, put_or_call, strike_price, process)\n",
    "p1 = option.NPV()\n",
    "h = 1.0 /365\n",
    "theta = (p1-p0)/h\n",
    "print(theta)"
   ]
  },
  {
   "cell_type": "code",
   "execution_count": 7,
   "metadata": {
    "pycharm": {
     "name": "#%%\n"
    }
   },
   "outputs": [
    {
     "data": {
      "text/plain": [
       "1.464578922471293"
      ]
     },
     "execution_count": 7,
     "metadata": {},
     "output_type": "execute_result"
    }
   ],
   "source": [
    "option.NPV()"
   ]
  },
  {
   "cell_type": "code",
   "execution_count": 8,
   "metadata": {
    "pycharm": {
     "name": "#%%\n"
    }
   },
   "outputs": [
    {
     "data": {
      "text/plain": [
       "1.464578922471293"
      ]
     },
     "execution_count": 8,
     "metadata": {},
     "output_type": "execute_result"
    }
   ],
   "source": [
    "p0"
   ]
  },
  {
   "cell_type": "code",
   "execution_count": 9,
   "metadata": {
    "pycharm": {
     "name": "#%%\n"
    }
   },
   "outputs": [
    {
     "name": "stdout",
     "output_type": "stream",
     "text": [
      "0.48\n",
      "0.48\n"
     ]
    }
   ],
   "source": [
    "sigma = volatility_rate.value()\n",
    "print(sigma)\n",
    "volatility_rate.setValue(0.48)\n",
    "sigma = volatility_rate.value()\n",
    "print(sigma)"
   ]
  },
  {
   "cell_type": "code",
   "execution_count": 10,
   "metadata": {
    "pycharm": {
     "name": "#%%\n"
    }
   },
   "outputs": [],
   "source": [
    "import numpy as np\n",
    "price_table = np.zeros((20,40))\n",
    "for vol in range(25,65,1):\n",
    "    volatility_rate.setValue(vol/100)\n",
    "    for un in range(32,52,1):\n",
    "        underlying_price.setValue(un)\n",
    "        price_table[un-32][vol-25] = option.NPV()"
   ]
  },
  {
   "cell_type": "code",
   "execution_count": 11,
   "metadata": {
    "pycharm": {
     "name": "#%%\n"
    }
   },
   "outputs": [
    {
     "data": {
      "text/plain": [
       "array([[3.92572372, 3.99745148, 4.06999109, 4.14326045, 4.21718744,\n",
       "        4.29170847, 4.36676726, 4.44231383, 4.51830368, 4.59469703,\n",
       "        4.67145823, 4.74855524, 4.82595914, 4.90364383, 4.98158562,\n",
       "        5.05976298, 5.13815633, 5.21674774, 5.29552083, 5.37446056,\n",
       "        5.45355309, 5.5327857 , 5.61214661, 5.69162493, 5.77121059,\n",
       "        5.85089418, 5.93066701, 6.01052093, 6.09044836, 6.17044217,\n",
       "        6.25049571, 6.33060274, 6.41075739, 6.4909541 , 6.57118766,\n",
       "        6.65145315, 6.7317459 , 6.81206149, 6.89239573, 6.97274465],\n",
       "       [3.27378377, 3.35336429, 3.43331898, 3.5136062 , 3.59418966,\n",
       "        3.6750376 , 3.7561221 , 3.83741849, 3.91890488, 4.0005618 ,\n",
       "        4.08237184, 4.16431935, 4.24639027, 4.32857189, 4.41085268,\n",
       "        4.49322216, 4.57567078, 4.65818981, 4.7407712 , 4.8234076 ,\n",
       "        4.9060922 , 4.98881869, 5.07158127, 5.1543745 , 5.23719332,\n",
       "        5.32003304, 5.40288923, 5.48575775, 5.56863473, 5.65151649,\n",
       "        5.73439958, 5.81728073, 5.90015684, 5.98302497, 6.06588233,\n",
       "        6.14872626, 6.23155422, 6.31436378, 6.39715262, 6.4799185 ],\n",
       "       [2.69523249, 2.78020841, 2.86526376, 2.95038688, 3.03556761,\n",
       "        3.12079699, 3.20606714, 3.29137101, 3.37670233, 3.46205544,\n",
       "        3.54742524, 3.63280709, 3.71819678, 3.80359044, 3.88898451,\n",
       "        3.97437569, 4.05976094, 4.1451374 , 4.23050245, 4.31585358,\n",
       "        4.40118847, 4.48650489, 4.57180075, 4.65707409, 4.74232299,\n",
       "        4.82754566, 4.91274037, 4.99790547, 5.08303935, 5.1681405 ,\n",
       "        5.25320742, 5.33823867, 5.42323288, 5.50818869, 5.5931048 ,\n",
       "        5.67797992, 5.7628128 , 5.84760224, 5.93234704, 6.01704604],\n",
       "       [2.19065298, 2.27826545, 2.36585544, 2.45342209, 2.54096454,\n",
       "        2.62848191, 2.71597334, 2.80343797, 2.89087493, 2.97828336,\n",
       "        3.06566241, 3.1530112 , 3.24032889, 3.32761461, 3.41486752,\n",
       "        3.50208676, 3.58927147, 3.6764208 , 3.76353391, 3.85060994,\n",
       "        3.93764804, 4.02464737, 4.11160708, 4.19852634, 4.28540428,\n",
       "        4.37224008, 4.45903289, 4.54578187, 4.63248619, 4.71914501,\n",
       "        4.80575749, 4.8923228 , 4.97884011, 5.06530858, 5.15172739,\n",
       "        5.23809572, 5.32441272, 5.41067759, 5.49688949, 5.5830476 ],\n",
       "       [1.75810786, 1.84558206, 1.93313538, 2.0207561 , 2.10843399,\n",
       "        2.19616009, 2.28392642, 2.37172593, 2.45955227, 2.54739978,\n",
       "        2.6352633 , 2.72313816, 2.81102011, 2.89890524, 2.98678996,\n",
       "        3.07467094, 3.16254511, 3.25040959, 3.33826171, 3.42609894,\n",
       "        3.51391891, 3.6017194 , 3.68949827, 3.77725351, 3.86498321,\n",
       "        3.95268553, 4.04035873, 4.12800111, 4.21561105, 4.30318701,\n",
       "        4.39072745, 4.47823093, 4.56569604, 4.6531214 , 4.74050566,\n",
       "        4.82784753, 4.91514573, 5.00239904, 5.08960622, 5.17676609],\n",
       "       [1.39352855, 1.47832431, 1.5634789 , 1.64895192, 1.73470824,\n",
       "        1.82071709, 1.90695142, 1.99338732, 2.08000362, 2.16678142,\n",
       "        2.25370386, 2.34075578, 2.42792355, 2.51519483, 2.60255843,\n",
       "        2.69000419, 2.77752282, 2.86510582, 2.95274539, 3.04043435,\n",
       "        3.12816608, 3.21593443, 3.30373372, 3.39155864, 3.47940425,\n",
       "        3.56726597, 3.65513944, 3.74302061, 3.83090566, 3.91879099,\n",
       "        4.0066732 , 4.09454906, 4.18241552, 4.27026968, 4.35810876,\n",
       "        4.44593014, 4.53373128, 4.62150978, 4.70926333, 4.79698971],\n",
       "       [1.09124204, 1.17123891, 1.25200146, 1.33345078, 1.41551771,\n",
       "        1.49814139, 1.58126805, 1.66485001, 1.74884487, 1.83321479,\n",
       "        1.91792587, 2.00294764, 2.08825269, 2.17381624, 2.25961581,\n",
       "        2.34563101, 2.43184324, 2.51823555, 2.60479238, 2.69149949,\n",
       "        2.77834376, 2.86531311, 2.95239638, 3.03958324, 3.1268641 ,\n",
       "        3.21423005, 3.30167281, 3.38918463, 3.47675828, 3.56438699,\n",
       "        3.65206442, 3.73978458, 3.82754187, 3.91533098, 4.00314692,\n",
       "        4.09098497, 4.17884063, 4.26670967, 4.35458805, 4.44247193],\n",
       "       [0.84454523, 0.91814959, 0.9929902 , 1.06894931, 1.14592252,\n",
       "        1.22381708, 1.30255034, 1.38204846, 1.46224533, 1.54308158,\n",
       "        1.62450379, 1.70646374, 1.78891782, 1.87182651, 1.95515388,\n",
       "        2.03886722, 2.12293667, 2.20733493, 2.29203697, 2.37701981,\n",
       "        2.46226231, 2.54774496, 2.63344977, 2.71936007, 2.80546043,\n",
       "        2.8917365 , 2.97817496, 3.06476337, 3.15149015, 3.23834448,\n",
       "        3.3253162 , 3.41239583, 3.49957443, 3.58684363, 3.67419552,\n",
       "        3.76162268, 3.84911807, 3.93667506, 4.02428737, 4.11194903],\n",
       "       [0.64625197, 0.71242893, 0.78031317, 0.84975639, 0.92062511,\n",
       "        0.99279909, 1.0661699 , 1.14063969, 1.21611997, 1.29253065,\n",
       "        1.36979908, 1.44785928, 1.52665121, 1.60612015, 1.68621612,\n",
       "        1.76689343, 1.84811021, 1.92982802, 2.01201155, 2.09462827,\n",
       "        2.17764818, 2.26104356, 2.34478877, 2.42886005, 2.51323536,\n",
       "        2.5978942 , 2.68281749, 2.76798745, 2.85338749, 2.9390021 ,\n",
       "        3.02481676, 3.11081787, 3.19699265, 3.28332913, 3.36981602,\n",
       "        3.45644269, 3.54319912, 3.63007586, 3.71706395, 3.80415495],\n",
       "       [0.48916085, 0.54740433, 0.60777321, 0.670103  , 0.73424257,\n",
       "        0.80005341, 0.86740867, 0.9361923 , 1.00629807, 1.07762877,\n",
       "        1.15009539, 1.22361638, 1.29811694, 1.37352842, 1.44978771,\n",
       "        1.5268368 , 1.60462221, 1.68309466, 1.76220865, 1.84192208,\n",
       "        1.92219603, 2.0029944 , 2.08428371, 2.16603284, 2.24821286,\n",
       "        2.3307968 , 2.41375952, 2.49707756, 2.58072898, 2.66469323,\n",
       "        2.74895109, 2.83348452, 2.91827656, 3.00331129, 3.08857373,\n",
       "        3.17404973, 3.25972599, 3.34558993, 3.43162966, 3.51783395],\n",
       "       [0.36641606, 0.41667596, 0.46938864, 0.52439039, 0.58152673,\n",
       "        0.64065282, 0.70163334, 0.76434232, 0.82866271, 0.89448593,\n",
       "        0.96171134, 1.03024574, 1.10000281, 1.17090262, 1.24287116,\n",
       "        1.31583981, 1.38974501, 1.46452775, 1.54013327, 1.61651071,\n",
       "        1.69361275, 1.77139538, 1.84981759, 1.92884114, 2.00843037,\n",
       "        2.08855194, 2.16917468, 2.25026943, 2.33180887, 2.41376738,\n",
       "        2.49612089, 2.57884681, 2.6619239 , 2.74533213, 2.82905266,\n",
       "        2.91306772, 2.99736051, 3.08191518, 3.16671674, 3.25175099],\n",
       "       [0.27175462, 0.31434051, 0.35959526, 0.40737235, 0.45752843,\n",
       "        0.50992488, 0.5644288 , 0.6209137 , 0.67925976, 0.73935392,\n",
       "        0.80108983, 0.86436768, 0.92909395, 0.9951811 , 1.06254728,\n",
       "        1.13111599, 1.20081574, 1.27157975, 1.34334562, 1.41605501,\n",
       "        1.48965341, 1.56408981, 1.63931647, 1.71528873, 1.7919647 ,\n",
       "        1.86930512, 1.94727319, 2.02583432, 2.10495603, 2.18460778,\n",
       "        2.26476085, 2.34538816, 2.42646421, 2.50796497, 2.58986772,\n",
       "        2.67215101, 2.75479459, 2.83777928, 2.92108691, 3.00470028],\n",
       "       [0.19964894, 0.23512713, 0.27337427, 0.31427452, 0.35770812,\n",
       "        0.40355407, 0.45169218, 0.50200462, 0.55437694, 0.60869879,\n",
       "        0.66486446, 0.72277304, 0.78232865, 0.84344037, 0.90602221,\n",
       "        0.96999295, 1.035276  , 1.10179917, 1.16949453, 1.23829809,\n",
       "        1.30814968, 1.37899266, 1.45077375, 1.52344283, 1.59695268,\n",
       "        1.67125888, 1.74631958, 1.82209534, 1.898549  , 1.97564547,\n",
       "        2.05335169, 2.13163639, 2.21047009, 2.28982486, 2.36967431,\n",
       "        2.44999346, 2.53075864, 2.61194746, 2.69353862, 2.77551196],\n",
       "       [0.14536222, 0.17445881, 0.20631642, 0.24085893, 0.27799931,\n",
       "        0.31764314, 0.35969146, 0.40404304, 0.45059617, 0.49924994,\n",
       "        0.5499053 , 0.60246575, 0.65683793, 0.71293191, 0.77066143,\n",
       "        0.82994401, 0.89070101, 0.95285756, 1.01634253, 1.08108844,\n",
       "        1.14703129, 1.21411045, 1.28226852, 1.35145118, 1.42160703,\n",
       "        1.4926874 , 1.5646463 , 1.63744017, 1.71102779, 1.78537015,\n",
       "        1.8604303 , 1.93617327, 2.01256587, 2.08957672, 2.16717596,\n",
       "        2.24533536, 2.32402806, 2.40322856, 2.48291266, 2.56305733],\n",
       "       [0.10493838, 0.12845617, 0.1546356 , 0.18344436, 0.21483335,\n",
       "        0.24874054, 0.28509429, 0.32381608, 0.36482282, 0.40802869,\n",
       "        0.45334663, 0.50068947, 0.54997091, 0.60110615, 0.65401247,\n",
       "        0.70860954, 0.76481975, 0.82256833, 0.88178351, 0.94239646,\n",
       "        1.00434142, 1.06755555, 1.13197892, 1.19755448, 1.26422786,\n",
       "        1.33194733, 1.40066374, 1.47033029, 1.54090255, 1.61233824,\n",
       "        1.68459722, 1.75764128, 1.83143415, 1.90594128, 1.98112988,\n",
       "        2.05696867, 2.13342799, 2.2104795 , 2.28809629, 2.36625269],\n",
       "       [0.07514751, 0.09390069, 0.11514568, 0.13889356, 0.16513449,\n",
       "        0.1938414 , 0.22497332, 0.25847833, 0.29429613, 0.33236021,\n",
       "        0.37259968, 0.41494078, 0.45930816, 0.50562581, 0.55381796,\n",
       "        0.60380962, 0.65552714, 0.70889852, 0.76385377, 0.82032502,\n",
       "        0.87824672, 0.93755569, 0.99819116, 1.06009479, 1.12321066,\n",
       "        1.1874852 , 1.25286716, 1.31930758, 1.38675963, 1.45517864,\n",
       "        1.52452192, 1.59474877, 1.6658203 , 1.73769946, 1.81035084,\n",
       "        1.8837407 , 1.95783682, 2.03260842, 2.10802617, 2.18406202],\n",
       "       [0.05340547, 0.06817245, 0.08521308, 0.1045778 , 0.12629401,\n",
       "        0.15036918, 0.17679381, 0.20554425, 0.23658525, 0.26987229,\n",
       "        0.30535356, 0.34297174, 0.38266544, 0.42437045, 0.4680208 ,\n",
       "        0.5135496 , 0.56088976, 0.60997452, 0.66073793, 0.71311519,\n",
       "        0.76704292, 0.82245938, 0.87930461, 0.93752052, 0.99705099,\n",
       "        1.05784187, 1.11984101, 1.18299824, 1.24726537, 1.31259613,\n",
       "        1.37894614, 1.44627284, 1.51453545, 1.58369493, 1.65371384,\n",
       "        1.72455639, 1.79618827, 1.86857668, 1.94169016, 2.01549866],\n",
       "       [0.0376821 , 0.04917495, 0.06269574, 0.07832764, 0.09613082,\n",
       "        0.11614448, 0.13838915, 0.16286909, 0.18957465, 0.21848441,\n",
       "        0.24956727, 0.2827842 , 0.31808988, 0.35543409, 0.39476292,\n",
       "        0.4360198 , 0.47914634, 0.52408313, 0.57077028, 0.61914794,\n",
       "        0.6691567 , 0.72073792, 0.77383401, 0.82838858, 0.88434666,\n",
       "        0.94165474, 1.0002609 , 1.06011486, 1.121168  , 1.18337335,\n",
       "        1.24668562, 1.31106116, 1.376458  , 1.44283566, 1.51015531,\n",
       "        1.57837959, 1.6474726 , 1.71739989, 1.78812836, 1.85962622],\n",
       "       [0.02640843, 0.03525627, 0.04587643, 0.05837702, 0.07284483,\n",
       "        0.08934626, 0.10792874, 0.12862251, 0.15144245, 0.17639006,\n",
       "        0.20345524, 0.23261812, 0.26385058, 0.29711778, 0.33237941,\n",
       "        0.36959084, 0.40870411, 0.4496688 , 0.49243274, 0.53694265,\n",
       "        0.58314466, 0.63098473, 0.68040902, 0.73136421, 0.78379769,\n",
       "        0.8376578 , 0.89289394, 0.94945672, 1.00729803, 1.06637107,\n",
       "        1.12663049, 1.1880323 , 1.25053394, 1.31409425, 1.37867351,\n",
       "        1.44423335, 1.5107368 , 1.57814821, 1.6464332 , 1.71555872],\n",
       "       [0.01838998, 0.02513286, 0.03339657, 0.04330598, 0.05496765,\n",
       "        0.06846967, 0.08388209, 0.10125793, 0.12063446, 0.14203466,\n",
       "        0.16546878, 0.19093589, 0.2184254 , 0.24791842, 0.2793891 ,\n",
       "        0.31280581, 0.34813217, 0.38532799, 0.42435012, 0.46515316,\n",
       "        0.50769003, 0.55191256, 0.59777192, 0.645219  , 0.6942047 ,\n",
       "        0.74468027, 0.79659745, 0.84990869, 0.90456728, 0.96052749,\n",
       "        1.01774461, 1.07617506, 1.13577639, 1.1965074 , 1.25832805,\n",
       "        1.32119952, 1.38508424, 1.44994586, 1.51574916, 1.58246018]])"
      ]
     },
     "execution_count": 11,
     "metadata": {},
     "output_type": "execute_result"
    }
   ],
   "source": [
    "price_table"
   ]
  },
  {
   "cell_type": "code",
   "execution_count": 15,
   "metadata": {
    "pycharm": {
     "name": "#%%\n"
    }
   },
   "outputs": [],
   "source": [
    "import pandas as pd\n",
    "\n",
    "df_table = pd.DataFrame(price_table,columns=list(range(25,65,1)))\n",
    "df_table['Underlying'] =  list(range(32,52,1))\n",
    "df_table =df_table.set_index('Underlying')\n",
    "df_table.head()\n",
    "df_table.to_csv(\"Simulation.csv\")"
   ]
  },
  {
   "cell_type": "code",
   "execution_count": 14,
   "metadata": {
    "pycharm": {
     "name": "#%%\n"
    }
   },
   "outputs": [
    {
     "data": {
      "image/png": "[encoded data removed]",
      "text/plain": [
       "<Figure size 432x288 with 2 Axes>"
      ]
     },
     "metadata": {
      "needs_background": "light"
     },
     "output_type": "display_data"
    }
   ],
   "source": [
    "import seaborn as sb\n",
    "\n",
    "ax = sb.heatmap(df_table, cbar_kws={'label':'Option Price'})\n",
    "ax.set_xlabel('Implied Volatility')\n",
    "ax.set_title('Price Simulation for COH1 Put 35')\n",
    "fig = ax.get_figure()\n",
    "fig.savefig(\"Heatmap.png\")\n",
    "\n",
    "\n"
   ]
  },
  {
   "cell_type": "code",
   "execution_count": 150,
   "metadata": {
    "pycharm": {
     "name": "#%%\n"
    }
   },
   "outputs": [
    {
     "name": "stdout",
     "output_type": "stream",
     "text": [
      "40\n",
      "20\n"
     ]
    }
   ],
   "source": [
    "print(len(list(range(25,65,1))))\n",
    "print(len(list(range(32,52,1))))"
   ]
  },
  {
   "cell_type": "code",
   "execution_count": null,
   "metadata": {
    "pycharm": {
     "name": "#%%\n"
    }
   },
   "outputs": [],
   "source": [
    "\n"
   ]
  }
 ],
 "metadata": {
  "kernelspec": {
   "display_name": "Python 3",
   "language": "python",
   "name": "python3"
  },
  "language_info": {
   "codemirror_mode": {
    "name": "ipython",
    "version": 3
   },
   "file_extension": ".py",
   "mimetype": "text/x-python",
   "name": "python",
   "nbconvert_exporter": "python",
   "pygments_lexer": "ipython3",
   "version": "3.7.6"
  }
 },
 "nbformat": 4,
 "nbformat_minor": 1
}
