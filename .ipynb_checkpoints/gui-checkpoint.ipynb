{
 "cells": [
  {
   "cell_type": "code",
   "execution_count": 10,
   "metadata": {},
   "outputs": [
    {
     "data": {
      "application/vnd.jupyter.widget-view+json": {
       "model_id": "b195073258dc403f97a31913822babb3",
       "version_major": 2,
       "version_minor": 0
      },
      "text/plain": [
       "RadioButtons(description='Option:', options=('Call', 'Put'), value='Call')"
      ]
     },
     "metadata": {},
     "output_type": "display_data"
    },
    {
     "data": {
      "application/vnd.jupyter.widget-view+json": {
       "model_id": "d6aee597ddff4c758497314b7e0131b3",
       "version_major": 2,
       "version_minor": 0
      },
      "text/plain": [
       "DatePicker(value=datetime.date(2020, 9, 13), description='Value Date')"
      ]
     },
     "metadata": {},
     "output_type": "display_data"
    },
    {
     "data": {
      "application/vnd.jupyter.widget-view+json": {
       "model_id": "06ec0c5aa527449392ba2785cd9259aa",
       "version_major": 2,
       "version_minor": 0
      },
      "text/plain": [
       "DatePicker(value=datetime.datetime(2020, 10, 13, 0, 0), description='expiry Date')"
      ]
     },
     "metadata": {},
     "output_type": "display_data"
    },
    {
     "data": {
      "application/vnd.jupyter.widget-view+json": {
       "model_id": "4890ddfb2800453ca56d634f29180378",
       "version_major": 2,
       "version_minor": 0
      },
      "text/plain": [
       "FloatText(value=0.01, description='Strike:')"
      ]
     },
     "metadata": {},
     "output_type": "display_data"
    },
    {
     "data": {
      "application/vnd.jupyter.widget-view+json": {
       "model_id": "8f8fbc65bc304abab42e206b168fe5ad",
       "version_major": 2,
       "version_minor": 0
      },
      "text/plain": [
       "FloatText(value=0.01, description='Underlying:')"
      ]
     },
     "metadata": {},
     "output_type": "display_data"
    },
    {
     "data": {
      "application/vnd.jupyter.widget-view+json": {
       "model_id": "05e4b86fbc6841889d5dbff4c99508f8",
       "version_major": 2,
       "version_minor": 0
      },
      "text/plain": [
       "FloatSlider(value=0.25, description='Dividend', max=2.0, step=0.05)"
      ]
     },
     "metadata": {},
     "output_type": "display_data"
    },
    {
     "data": {
      "application/vnd.jupyter.widget-view+json": {
       "model_id": "636a5efdb9ff4479a24db1999cf9d023",
       "version_major": 2,
       "version_minor": 0
      },
      "text/plain": [
       "FloatSlider(value=0.25, description='Interest:', max=2.0, step=0.05)"
      ]
     },
     "metadata": {},
     "output_type": "display_data"
    },
    {
     "data": {
      "application/vnd.jupyter.widget-view+json": {
       "model_id": "bb87c873150a44c88553b7eb24eab42a",
       "version_major": 2,
       "version_minor": 0
      },
      "text/plain": [
       "FloatSlider(value=0.25, description='Volatility', max=1.0, step=0.01)"
      ]
     },
     "metadata": {},
     "output_type": "display_data"
    },
    {
     "data": {
      "application/vnd.jupyter.widget-view+json": {
       "model_id": "699b67ef9ee54dc8b24ed1bacb666604",
       "version_major": 2,
       "version_minor": 0
      },
      "text/plain": [
       "Button(description='Price', style=ButtonStyle())"
      ]
     },
     "metadata": {},
     "output_type": "display_data"
    },
    {
     "data": {
      "application/vnd.jupyter.widget-view+json": {
       "model_id": "4ce4b664d4a64d469e549d5dbfea5938",
       "version_major": 2,
       "version_minor": 0
      },
      "text/plain": [
       "Output()"
      ]
     },
     "metadata": {},
     "output_type": "display_data"
    },
    {
     "ename": "UnboundLocalError",
     "evalue": "local variable 'price' referenced before assignment",
     "output_type": "error",
     "traceback": [
      "\u001b[0;31m---------------------------------------------------------------------------\u001b[0m",
      "\u001b[0;31mUnboundLocalError\u001b[0m                         Traceback (most recent call last)",
      "\u001b[0;32m<ipython-input-10-6904f8690c18>\u001b[0m in \u001b[0;36m<module>\u001b[0;34m\u001b[0m\n\u001b[1;32m    129\u001b[0m \u001b[0;34m\u001b[0m\u001b[0m\n\u001b[1;32m    130\u001b[0m option_price = widgets.FloatText(\n\u001b[0;32m--> 131\u001b[0;31m     \u001b[0mvalue\u001b[0m\u001b[0;34m=\u001b[0m\u001b[0mon_button_clicked\u001b[0m\u001b[0;34m(\u001b[0m\u001b[0;36m0\u001b[0m\u001b[0;34m)\u001b[0m\u001b[0;34m[\u001b[0m\u001b[0;36m0\u001b[0m\u001b[0;34m]\u001b[0m\u001b[0;34m,\u001b[0m\u001b[0;34m\u001b[0m\u001b[0;34m\u001b[0m\u001b[0m\n\u001b[0m\u001b[1;32m    132\u001b[0m     \u001b[0mdescription\u001b[0m\u001b[0;34m=\u001b[0m\u001b[0;34m'Input Price:'\u001b[0m\u001b[0;34m,\u001b[0m\u001b[0;34m\u001b[0m\u001b[0;34m\u001b[0m\u001b[0m\n\u001b[1;32m    133\u001b[0m     \u001b[0mdisabled\u001b[0m\u001b[0;34m=\u001b[0m\u001b[0;32mFalse\u001b[0m\u001b[0;34m\u001b[0m\u001b[0;34m\u001b[0m\u001b[0m\n",
      "\u001b[0;32m<ipython-input-10-6904f8690c18>\u001b[0m in \u001b[0;36mon_button_clicked\u001b[0;34m(b)\u001b[0m\n\u001b[1;32m    123\u001b[0m         \u001b[0mprint\u001b[0m\u001b[0;34m(\u001b[0m\u001b[0;34m\"Price: {}\"\u001b[0m\u001b[0;34m.\u001b[0m\u001b[0mformat\u001b[0m\u001b[0;34m(\u001b[0m\u001b[0mprice\u001b[0m\u001b[0;34m)\u001b[0m\u001b[0;34m)\u001b[0m\u001b[0;34m\u001b[0m\u001b[0;34m\u001b[0m\u001b[0m\n\u001b[1;32m    124\u001b[0m         \u001b[0mprint\u001b[0m\u001b[0;34m(\u001b[0m\u001b[0;34m\"Implied Volatility: {}\"\u001b[0m\u001b[0;34m.\u001b[0m\u001b[0mformat\u001b[0m\u001b[0;34m(\u001b[0m\u001b[0mimplied_volatility\u001b[0m\u001b[0;34m)\u001b[0m\u001b[0;34m)\u001b[0m\u001b[0;34m\u001b[0m\u001b[0;34m\u001b[0m\u001b[0m\n\u001b[0;32m--> 125\u001b[0;31m     \u001b[0;32mreturn\u001b[0m \u001b[0;34m(\u001b[0m\u001b[0mprice\u001b[0m\u001b[0;34m,\u001b[0m \u001b[0mimplied_volatility_rate\u001b[0m\u001b[0;34m)\u001b[0m\u001b[0;34m\u001b[0m\u001b[0;34m\u001b[0m\u001b[0m\n\u001b[0m\u001b[1;32m    126\u001b[0m \u001b[0;34m\u001b[0m\u001b[0m\n\u001b[1;32m    127\u001b[0m \u001b[0;34m\u001b[0m\u001b[0m\n",
      "\u001b[0;31mUnboundLocalError\u001b[0m: local variable 'price' referenced before assignment"
     ]
    }
   ],
   "source": [
    "from IPython.core.display import display\n",
    "import QLIB as qb\n",
    "import ipywidgets as widgets\n",
    "import QuantLib as ql\n",
    "from datetime import date\n",
    "from datetime import datetime\n",
    "\n",
    "today = date.today()\n",
    "_expiry = datetime(today.year,today.month+1,today.day)\n",
    "\n",
    "button = widgets.Button(description=\"Price\")\n",
    "button_1 = widgets.Button(description=\"Implied Volatility\")\n",
    "output = widgets.Output()\n",
    "\n",
    "option_type = widgets.RadioButtons(\n",
    "    options=['Call', 'Put'],\n",
    "    value='Call', # Defaults to 'pineapple'\n",
    "#    layout={'width': 'max-content'}, # If the items' names are long\n",
    "    description='Option:',\n",
    "    disabled=False\n",
    ")\n",
    "\n",
    "\n",
    "value_date = widgets.DatePicker(\n",
    "    description='Value Date',\n",
    "    value = today,\n",
    "    disabled=False\n",
    ")\n",
    "\n",
    "\n",
    "expiry = widgets.DatePicker(\n",
    "    description='expiry Date',\n",
    "    value = _expiry,\n",
    "    disabled=False\n",
    ")\n",
    "\n",
    "\n",
    "interest= widgets.FloatSlider(\n",
    "    value=0.25,\n",
    "    min=0,\n",
    "    max=2,\n",
    "    step=0.05,\n",
    "    description='Interest:',\n",
    "    disabled=False,\n",
    "    continuous_update=True,\n",
    "    orientation='horizontal',\n",
    "\n",
    ")\n",
    "\n",
    "dividend= widgets.FloatSlider(\n",
    "    value=0.25,\n",
    "    min=0,\n",
    "    max=2,\n",
    "    step=0.05,\n",
    "    description='Dividend',\n",
    "    disabled=False,\n",
    "    continuous_update=True,\n",
    "    orientation='horizontal',\n",
    "\n",
    ")\n",
    "\n",
    "volatility= widgets.FloatSlider(\n",
    "    value=0.25,\n",
    "    min=0,\n",
    "    max=1,\n",
    "    step=0.01,\n",
    "    description='Volatility',\n",
    "    disabled=False,\n",
    "    continuous_update=True,\n",
    "    orientation='horizontal',\n",
    "\n",
    ")\n",
    "\n",
    "\n",
    "strike = widgets.FloatText(\n",
    "    value=0.01,\n",
    "    description='Strike:',\n",
    "    disabled=False\n",
    ")\n",
    "\n",
    "\n",
    "underlying = widgets.FloatText(\n",
    "    value=0.01,\n",
    "    description='Underlying:',\n",
    "    disabled=False\n",
    ")\n",
    "\n",
    "\n",
    "display(option_type)\n",
    "display(value_date)\n",
    "display(expiry)\n",
    "display(strike)\n",
    "display(underlying)\n",
    "display(dividend)\n",
    "display(interest)\n",
    "display(volatility)\n",
    "display(button, output)\n",
    "\n",
    "\n",
    "\n",
    "def on_button_clicked(b):\n",
    "    with output:\n",
    "\n",
    "        valuation_date = ql.Date(value_date.value.day, value_date.value.month, value_date.value.year)\n",
    "        expiry_date = ql.Date(expiry.value.day, expiry.value.month, expiry.value.year)\n",
    "        strike_price = float(strike.value)\n",
    "        put_or_call = ql.Option.Call if option_type == 'Call' else ql.Option.Put\n",
    "\n",
    "        #Market data\n",
    "        interest_rate = ql.SimpleQuote(interest.value)\n",
    "        #See idivs.org for expected dividend yields\n",
    "        dividend_rate = ql.SimpleQuote(dividend.value)\n",
    "        #Dummy volatility necessary to setup process\n",
    "        volatility_rate = ql.SimpleQuote(volatility.value)\n",
    "        underlying_price = ql.SimpleQuote(underlying.value)\n",
    "\n",
    "        market_value = 2.10\n",
    "        ql.Settings.instance().evaluation_date = valuation_date\n",
    "        process = qb.getProcess(interest_rate,dividend_rate,underlying_price,volatility_rate)\n",
    "        opt = qb.getAmericanOption(valuation_date, expiry_date, put_or_call,strike_price, process)\n",
    "        implied_volatility_rate = opt.impliedVolatility(market_value, process)\n",
    "        price = qb.getAmericanPrice(opt)\n",
    "        print(\"Price: {}\".format(price))\n",
    "        print(\"Implied Volatility: {}\".format(implied_volatility))\n",
    "    return (price, implied_volatility_rate)\n",
    "\n",
    "\n",
    "button.on_click(on_button_clicked)\n",
    "\n",
    "option_price = widgets.FloatText(\n",
    "    value=on_button_clicked(0)[0],\n",
    "    description='Input Price:',\n",
    "    disabled=False\n",
    ")\n",
    "\n",
    "\n",
    "    \n"
   ]
  },
  {
   "cell_type": "code",
   "execution_count": null,
   "metadata": {},
   "outputs": [],
   "source": []
  }
 ],
 "metadata": {
  "celltoolbar": "Edit Metadata",
  "kernelspec": {
   "display_name": "Python 3",
   "language": "python",
   "name": "python3"
  },
  "language_info": {
   "codemirror_mode": {
    "name": "ipython",
    "version": 3
   },
   "file_extension": ".py",
   "mimetype": "text/x-python",
   "name": "python",
   "nbconvert_exporter": "python",
   "pygments_lexer": "ipython3",
   "version": "3.7.6"
  }
 },
 "nbformat": 4,
 "nbformat_minor": 1
}
