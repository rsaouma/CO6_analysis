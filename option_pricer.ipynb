{
 "cells": [
  {
   "cell_type": "code",
   "execution_count": 1,
   "metadata": {
    "collapsed": true
   },
   "outputs": [],
   "source": [
    "import QuantLib as ql\n",
    "import math"
   ]
  },
  {
   "cell_type": "code",
   "execution_count": 2,
   "outputs": [],
   "source": [
    "strike = 35\n",
    "maturity = ql.Date(26,1,2021)\n",
    "option_type = ql.Option.Put\n",
    "\n",
    "payoff = ql.PlainVanillaPayoff(option_type, strike)\n",
    "\n",
    "americanExercise = ql.AmericanExercise(ql.Date().todaysDate(), maturity)\n",
    "americanOption = ql.VanillaOption(payoff, americanExercise)\n",
    "\n",
    "\n",
    "today = ql.Date().todaysDate()\n",
    "riskFreeTS = ql.YieldTermStructureHandle(ql.FlatForward(today, 0.0007, ql.Actual365Fixed()))\n",
    "dividendTS = ql.YieldTermStructureHandle(ql.FlatForward(today, 0.00, ql.Actual365Fixed()))\n",
    "volatility = ql.BlackVolTermStructureHandle(ql.BlackConstantVol(today, ql.NullCalendar(), 0.479, ql.Actual365Fixed()))\n",
    "\n",
    "initialValue = ql.QuoteHandle(ql.SimpleQuote(44.33))\n",
    "\n",
    "process = ql.BlackScholesMertonProcess(initialValue, dividendTS, riskFreeTS, volatility)\n",
    "\n",
    "steps = 2\n",
    "rng = \"pseudorandom\" # could use \"lowdiscrepancy\"\n",
    "numPaths = 100000\n",
    "engine = ql.MCEuropeanEngine(process, rng, steps, requiredSamples=numPaths)\n",
    "americanOption.setPricingEngine(engine)\n",
    "\n"
   ],
   "metadata": {
    "collapsed": false,
    "pycharm": {
     "name": "#%%\n"
    }
   }
  },
  {
   "cell_type": "code",
   "execution_count": 3,
   "outputs": [
    {
     "data": {
      "text/plain": "1.428431738530392"
     },
     "execution_count": 3,
     "metadata": {},
     "output_type": "execute_result"
    }
   ],
   "source": [
    "americanOption.NPV()\n"
   ],
   "metadata": {
    "collapsed": false,
    "pycharm": {
     "name": "#%%\n"
    }
   }
  },
  {
   "cell_type": "code",
   "execution_count": 5,
   "outputs": [
    {
     "ename": "RuntimeError",
     "evalue": "delta not provided",
     "output_type": "error",
     "traceback": [
      "\u001B[0;31m---------------------------------------------------------------------------\u001B[0m",
      "\u001B[0;31mRuntimeError\u001B[0m                              Traceback (most recent call last)",
      "\u001B[0;32m<ipython-input-5-1c5caecaccdf>\u001B[0m in \u001B[0;36m<module>\u001B[0;34m\u001B[0m\n\u001B[0;32m----> 1\u001B[0;31m \u001B[0mamericanOption\u001B[0m\u001B[0;34m.\u001B[0m\u001B[0mdelta\u001B[0m\u001B[0;34m(\u001B[0m\u001B[0;34m)\u001B[0m\u001B[0;34m\u001B[0m\u001B[0;34m\u001B[0m\u001B[0m\n\u001B[0m\u001B[1;32m      2\u001B[0m \u001B[0;34m\u001B[0m\u001B[0m\n\u001B[1;32m      3\u001B[0m \u001B[0;34m\u001B[0m\u001B[0m\n",
      "\u001B[0;32m~/opt/anaconda3/envs/CO6_analysis/lib/python3.8/site-packages/QuantLib/QuantLib.py\u001B[0m in \u001B[0;36mdelta\u001B[0;34m(self)\u001B[0m\n\u001B[1;32m  10989\u001B[0m \u001B[0;34m\u001B[0m\u001B[0m\n\u001B[1;32m  10990\u001B[0m     \u001B[0;32mdef\u001B[0m \u001B[0mdelta\u001B[0m\u001B[0;34m(\u001B[0m\u001B[0mself\u001B[0m\u001B[0;34m)\u001B[0m\u001B[0;34m:\u001B[0m\u001B[0;34m\u001B[0m\u001B[0;34m\u001B[0m\u001B[0m\n\u001B[0;32m> 10991\u001B[0;31m         \u001B[0;32mreturn\u001B[0m \u001B[0m_QuantLib\u001B[0m\u001B[0;34m.\u001B[0m\u001B[0mOneAssetOption_delta\u001B[0m\u001B[0;34m(\u001B[0m\u001B[0mself\u001B[0m\u001B[0;34m)\u001B[0m\u001B[0;34m\u001B[0m\u001B[0;34m\u001B[0m\u001B[0m\n\u001B[0m\u001B[1;32m  10992\u001B[0m \u001B[0;34m\u001B[0m\u001B[0m\n\u001B[1;32m  10993\u001B[0m     \u001B[0;32mdef\u001B[0m \u001B[0mdeltaForward\u001B[0m\u001B[0;34m(\u001B[0m\u001B[0mself\u001B[0m\u001B[0;34m)\u001B[0m\u001B[0;34m:\u001B[0m\u001B[0;34m\u001B[0m\u001B[0;34m\u001B[0m\u001B[0m\n",
      "\u001B[0;31mRuntimeError\u001B[0m: delta not provided"
     ]
    }
   ],
   "source": [
    " americanOption.delta()\n"
   ],
   "metadata": {
    "collapsed": false,
    "pycharm": {
     "name": "#%%\n"
    }
   }
  },
  {
   "cell_type": "code",
   "execution_count": 37,
   "outputs": [
    {
     "ename": "RuntimeError",
     "evalue": "root not bracketed: f[0.0001,4] -> [-4.433000e+01,-1.766992e+01]",
     "output_type": "error",
     "traceback": [
      "\u001B[0;31m---------------------------------------------------------------------------\u001B[0m",
      "\u001B[0;31mRuntimeError\u001B[0m                              Traceback (most recent call last)",
      "\u001B[0;32m<ipython-input-37-bf0422a7fef0>\u001B[0m in \u001B[0;36m<module>\u001B[0;34m\u001B[0m\n\u001B[0;32m----> 1\u001B[0;31m \u001B[0mamericanOption\u001B[0m\u001B[0;34m.\u001B[0m\u001B[0mimpliedVolatility\u001B[0m\u001B[0;34m(\u001B[0m\u001B[0;36m44.33\u001B[0m\u001B[0;34m,\u001B[0m\u001B[0mprocess\u001B[0m\u001B[0;34m)\u001B[0m\u001B[0;34m\u001B[0m\u001B[0;34m\u001B[0m\u001B[0m\n\u001B[0m\u001B[1;32m      2\u001B[0m \u001B[0;34m\u001B[0m\u001B[0m\n\u001B[1;32m      3\u001B[0m \u001B[0;34m\u001B[0m\u001B[0m\n",
      "\u001B[0;32m~/opt/anaconda3/envs/CO6_analysis/lib/python3.8/site-packages/QuantLib/QuantLib.py\u001B[0m in \u001B[0;36mimpliedVolatility\u001B[0;34m(self, targetValue, process, accuracy, maxEvaluations, minVol, maxVol)\u001B[0m\n\u001B[1;32m  11033\u001B[0m \u001B[0;34m\u001B[0m\u001B[0m\n\u001B[1;32m  11034\u001B[0m     \u001B[0;32mdef\u001B[0m \u001B[0mimpliedVolatility\u001B[0m\u001B[0;34m(\u001B[0m\u001B[0mself\u001B[0m\u001B[0;34m,\u001B[0m \u001B[0mtargetValue\u001B[0m\u001B[0;34m,\u001B[0m \u001B[0mprocess\u001B[0m\u001B[0;34m,\u001B[0m \u001B[0maccuracy\u001B[0m\u001B[0;34m=\u001B[0m\u001B[0;36m1.0e-4\u001B[0m\u001B[0;34m,\u001B[0m \u001B[0mmaxEvaluations\u001B[0m\u001B[0;34m=\u001B[0m\u001B[0;36m100\u001B[0m\u001B[0;34m,\u001B[0m \u001B[0mminVol\u001B[0m\u001B[0;34m=\u001B[0m\u001B[0;36m1.0e-4\u001B[0m\u001B[0;34m,\u001B[0m \u001B[0mmaxVol\u001B[0m\u001B[0;34m=\u001B[0m\u001B[0;36m4.0\u001B[0m\u001B[0;34m)\u001B[0m\u001B[0;34m:\u001B[0m\u001B[0;34m\u001B[0m\u001B[0;34m\u001B[0m\u001B[0m\n\u001B[0;32m> 11035\u001B[0;31m         \u001B[0;32mreturn\u001B[0m \u001B[0m_QuantLib\u001B[0m\u001B[0;34m.\u001B[0m\u001B[0mVanillaOption_impliedVolatility\u001B[0m\u001B[0;34m(\u001B[0m\u001B[0mself\u001B[0m\u001B[0;34m,\u001B[0m \u001B[0mtargetValue\u001B[0m\u001B[0;34m,\u001B[0m \u001B[0mprocess\u001B[0m\u001B[0;34m,\u001B[0m \u001B[0maccuracy\u001B[0m\u001B[0;34m,\u001B[0m \u001B[0mmaxEvaluations\u001B[0m\u001B[0;34m,\u001B[0m \u001B[0mminVol\u001B[0m\u001B[0;34m,\u001B[0m \u001B[0mmaxVol\u001B[0m\u001B[0;34m)\u001B[0m\u001B[0;34m\u001B[0m\u001B[0;34m\u001B[0m\u001B[0m\n\u001B[0m\u001B[1;32m  11036\u001B[0m \u001B[0;34m\u001B[0m\u001B[0m\n\u001B[1;32m  11037\u001B[0m     \u001B[0;32mdef\u001B[0m \u001B[0mpriceCurve\u001B[0m\u001B[0;34m(\u001B[0m\u001B[0mself\u001B[0m\u001B[0;34m)\u001B[0m\u001B[0;34m:\u001B[0m\u001B[0;34m\u001B[0m\u001B[0;34m\u001B[0m\u001B[0m\n",
      "\u001B[0;31mRuntimeError\u001B[0m: root not bracketed: f[0.0001,4] -> [-4.433000e+01,-1.766992e+01]"
     ]
    }
   ],
   "source": [
    "americanOption.impliedVolatility(44.33,process)\n"
   ],
   "metadata": {
    "collapsed": false,
    "pycharm": {
     "name": "#%%\n"
    }
   }
  },
  {
   "cell_type": "code",
   "execution_count": null,
   "outputs": [],
   "source": [
    "\n"
   ],
   "metadata": {
    "collapsed": false,
    "pycharm": {
     "name": "#%%\n"
    }
   }
  }
 ],
 "metadata": {
  "kernelspec": {
   "display_name": "Python 3",
   "language": "python",
   "name": "python3"
  },
  "language_info": {
   "codemirror_mode": {
    "name": "ipython",
    "version": 2
   },
   "file_extension": ".py",
   "mimetype": "text/x-python",
   "name": "python",
   "nbconvert_exporter": "python",
   "pygments_lexer": "ipython2",
   "version": "2.7.6"
  }
 },
 "nbformat": 4,
 "nbformat_minor": 0
}