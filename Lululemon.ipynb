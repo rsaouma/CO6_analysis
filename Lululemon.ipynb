{
 "cells": [
  {
   "cell_type": "code",
   "execution_count": null,
   "metadata": {
    "collapsed": true
   },
   "outputs": [],
   "source": [
    "## Trading Strategies and Simulation for BRK/B"
   ]
  },
  {
   "cell_type": "markdown",
   "source": [
    "In this notebook i analyse the different strategies and scenario ahead of BRK/B third quarter result.\n",
    "The underlying has been under pressure from the market and the price could go to 220- 230 after the results.\n",
    "\n",
    "We will consider few scenqrioes scenarios and\n",
    "\n",
    "\n",
    " ....\n",
    "\n"
   ],
   "metadata": {
    "collapsed": false
   }
  },
  {
   "cell_type": "code",
   "execution_count": null,
   "outputs": [],
   "source": [
    "import numpy as np\n",
    "import QuantLib as ql\n",
    "import datetime\n",
    "import pandas as pd\n",
    "import numpy as np\n",
    "import math\n",
    "from matplotlib import pyplot as plt\n",
    "\n",
    "\n",
    "def european_option(val,exp,str,vol,typ,und,r):\n",
    "\n",
    "    opt_type = ql.Option.Put if typ==\"Put\" else ql.Option.Call\n",
    "    ql.Settings.instance().evaluationDate = ql.Date(val.day,val.month, val.year)\n",
    "\n",
    "\n",
    "\n",
    "\n",
    "    option = ql.EuropeanOption(ql.PlainVanillaPayoff(opt_type, str), ql.EuropeanExercise(ql.Date(exp.day,exp.month,exp.year)))\n",
    "    u = ql.SimpleQuote(und)\n",
    "    r = ql.SimpleQuote(r)\n",
    "    sigma = ql.SimpleQuote(vol)\n",
    "\n",
    "\n",
    "    riskFreeCurve = ql.FlatForward(0, ql.TARGET(), ql.QuoteHandle(r), ql.Actual360())\n",
    "    volatility = ql.BlackConstantVol(0, ql.TARGET(), ql.QuoteHandle(sigma), ql.Actual360())\n",
    "    process = ql.BlackScholesProcess(ql.QuoteHandle(u), ql.YieldTermStructureHandle(riskFreeCurve),\n",
    "    ql.BlackVolTermStructureHandle(volatility))\n",
    "    engine = ql.AnalyticEuropeanEngine(process)\n",
    "    option.setPricingEngine(engine)\n",
    "    output = {\"Value Date\": valuation_date,\"Underlying\":und, \"Implied Vol\": vol,'NPV': option.NPV(), 'delta':(option.delta()), 'gamma': (option.gamma()), 'vega': (option.vega()), 'theta': option.thetaPerDay()}\n",
    "\n",
    "    return output"
   ],
   "metadata": {
    "collapsed": false,
    "pycharm": {
     "name": "#%%\n"
    }
   }
  },
  {
   "cell_type": "code",
   "execution_count": null,
   "outputs": [],
   "source": [
    "valuation_date = datetime.date(2020,10,20)\n",
    "expiry_date = datetime.date(2021,6,18)\n",
    "strike = 250\n",
    "vol = 0.20\n",
    "option_type = \"Call\"\n",
    "underlying = 210\n",
    "dict_1 = european_option(valuation_date,expiry_date,strike,vol,option_type,underlying,0.01)\n"
   ],
   "metadata": {
    "collapsed": false,
    "pycharm": {
     "name": "#%%\n"
    }
   }
  }
 ],
 "metadata": {
  "kernelspec": {
   "display_name": "Python 3",
   "language": "python",
   "name": "python3"
  },
  "language_info": {
   "codemirror_mode": {
    "name": "ipython",
    "version": 2
   },
   "file_extension": ".py",
   "mimetype": "text/x-python",
   "name": "python",
   "nbconvert_exporter": "python",
   "pygments_lexer": "ipython2",
   "version": "2.7.6"
  }
 },
 "nbformat": 4,
 "nbformat_minor": 0
}