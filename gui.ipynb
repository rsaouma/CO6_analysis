{
 "cells": [
  {
   "cell_type": "code",
   "execution_count": 3,
   "metadata": {},
   "outputs": [
    {
     "data": {
      "text/plain": "RadioButtons(description='Option:', index=1, options=('Call', 'Put'), value='Put')",
      "application/vnd.jupyter.widget-view+json": {
       "version_major": 2,
       "version_minor": 0,
       "model_id": "7a87790121814c5aa2082efdcbe1f9a5"
      }
     },
     "metadata": {},
     "output_type": "display_data"
    },
    {
     "data": {
      "text/plain": "DatePicker(value=datetime.date(2020, 10, 6), description='Value Date')",
      "application/vnd.jupyter.widget-view+json": {
       "version_major": 2,
       "version_minor": 0,
       "model_id": "daf38adf38b04fbdbbaaac563be43105"
      }
     },
     "metadata": {},
     "output_type": "display_data"
    },
    {
     "data": {
      "text/plain": "DatePicker(value=datetime.datetime(2020, 11, 6, 0, 0), description='expiry Date')",
      "application/vnd.jupyter.widget-view+json": {
       "version_major": 2,
       "version_minor": 0,
       "model_id": "639a5f1b1b2945e0bdb225ce54712b83"
      }
     },
     "metadata": {},
     "output_type": "display_data"
    },
    {
     "data": {
      "text/plain": "FloatText(value=35.0, description='Strike:')",
      "application/vnd.jupyter.widget-view+json": {
       "version_major": 2,
       "version_minor": 0,
       "model_id": "b8be557db8114dd59f804aa753918283"
      }
     },
     "metadata": {},
     "output_type": "display_data"
    },
    {
     "data": {
      "text/plain": "FloatText(value=32.0, description='Underlying:')",
      "application/vnd.jupyter.widget-view+json": {
       "version_major": 2,
       "version_minor": 0,
       "model_id": "54401aa6d2524090af5eadbbfae9efb7"
      }
     },
     "metadata": {},
     "output_type": "display_data"
    },
    {
     "data": {
      "text/plain": "FloatSlider(value=0.25, description='Dividend', max=2.0, step=0.05)",
      "application/vnd.jupyter.widget-view+json": {
       "version_major": 2,
       "version_minor": 0,
       "model_id": "b2badd268a624d2698981fe0534d8565"
      }
     },
     "metadata": {},
     "output_type": "display_data"
    },
    {
     "data": {
      "text/plain": "FloatSlider(value=0.25, description='Interest:', max=2.0, step=0.05)",
      "application/vnd.jupyter.widget-view+json": {
       "version_major": 2,
       "version_minor": 0,
       "model_id": "b6e280d6271c4bd5a84398781e51cf19"
      }
     },
     "metadata": {},
     "output_type": "display_data"
    },
    {
     "data": {
      "text/plain": "FloatSlider(value=0.56, description='Volatility', max=1.0, step=0.01)",
      "application/vnd.jupyter.widget-view+json": {
       "version_major": 2,
       "version_minor": 0,
       "model_id": "a6aea50224224a27863f33c80aa58d58"
      }
     },
     "metadata": {},
     "output_type": "display_data"
    },
    {
     "data": {
      "text/plain": "Button(description='Price', style=ButtonStyle())",
      "application/vnd.jupyter.widget-view+json": {
       "version_major": 2,
       "version_minor": 0,
       "model_id": "dc082ef8ac49499e9cbb8904e82540ff"
      }
     },
     "metadata": {},
     "output_type": "display_data"
    },
    {
     "data": {
      "text/plain": "Output()",
      "application/vnd.jupyter.widget-view+json": {
       "version_major": 2,
       "version_minor": 0,
       "model_id": "21724853a1b94aa3a793bb52dd1e154b"
      }
     },
     "metadata": {},
     "output_type": "display_data"
    }
   ],
   "source": [
    "# from IPython.core.display import display\n",
    "import QLIB as qb\n",
    "import ipywidgets as widgets\n",
    "import QuantLib as ql\n",
    "from datetime import date\n",
    "from datetime import datetime\n",
    "\n",
    "today = date.today()\n",
    "_expiry = datetime(today.year,today.month+1,today.day)\n",
    "\n",
    "button = widgets.Button(description=\"Price\")\n",
    "button_1 = widgets.Button(description=\"Implied Volatility\")\n",
    "output = widgets.Output()\n",
    "\n",
    "option_type = widgets.RadioButtons(\n",
    "    options=['Call', 'Put'],\n",
    "    value='Put', # Defaults to 'pineapple'\n",
    "#    layout={'width': 'max-content'}, # If the items' names are long\n",
    "    description='Option:',\n",
    "    disabled=False\n",
    ")\n",
    "\n",
    "\n",
    "value_date = widgets.DatePicker(\n",
    "    description='Value Date',\n",
    "    value = today,\n",
    "    disabled=False\n",
    ")\n",
    "\n",
    "\n",
    "expiry = widgets.DatePicker(\n",
    "    description='expiry Date',\n",
    "    value = _expiry,\n",
    "    disabled=False\n",
    ")\n",
    "\n",
    "\n",
    "interest= widgets.FloatSlider(\n",
    "    value=0.25,\n",
    "    min=0,\n",
    "    max=2,\n",
    "    step=0.05,\n",
    "    description='Interest:',\n",
    "    disabled=False,\n",
    "    continuous_update=True,\n",
    "    orientation='horizontal',\n",
    "\n",
    ")\n",
    "\n",
    "dividend= widgets.FloatSlider(\n",
    "    value=0.25,\n",
    "    min=0,\n",
    "    max=2,\n",
    "    step=0.05,\n",
    "    description='Dividend',\n",
    "    disabled=False,\n",
    "    continuous_update=True,\n",
    "    orientation='horizontal',\n",
    "\n",
    ")\n",
    "\n",
    "volatility= widgets.FloatSlider(\n",
    "    value=0.56,\n",
    "    min=0,\n",
    "    max=1,\n",
    "    step=0.01,\n",
    "    description='Volatility',\n",
    "    disabled=False,\n",
    "    continuous_update=True,\n",
    "    orientation='horizontal',\n",
    "\n",
    ")\n",
    "\n",
    "\n",
    "strike = widgets.FloatText(\n",
    "    value=35,\n",
    "    description='Strike:',\n",
    "    disabled=False\n",
    ")\n",
    "\n",
    "\n",
    "underlying = widgets.FloatText(\n",
    "    value=32,\n",
    "    description='Underlying:',\n",
    "    disabled=False\n",
    ")\n",
    "\n",
    "\n",
    "display(option_type)\n",
    "display(value_date)\n",
    "display(expiry)\n",
    "display(strike)\n",
    "display(underlying)\n",
    "display(dividend)\n",
    "display(interest)\n",
    "display(volatility)\n",
    "display(button, output)\n",
    "\n",
    "\n",
    "\n",
    "\n",
    "\n",
    "\n",
    "\n",
    "\n",
    "\n",
    "implied_volatility_rate = 1\n",
    "\n",
    "def on_button_clicked(b):\n",
    "    with output:\n",
    "        valuation_date = ql.Date(value_date.value.day, value_date.value.month, value_date.value.year)\n",
    "        expiry_date = ql.Date(expiry.value.day, expiry.value.month, expiry.value.year)\n",
    "        strike_price = float(strike.value)\n",
    "        put_or_call = ql.Option.Call if option_type == 'Call' else ql.Option.Put\n",
    "\n",
    "        #Market data\n",
    "        interest_rate = ql.SimpleQuote(interest.value/100)\n",
    "        #See idivs.org for expected dividend yields\n",
    "        dividend_rate = ql.SimpleQuote(dividend.value/100)\n",
    "        #Dummy volatility necessary to setup process\n",
    "        volatility_rate = ql.SimpleQuote(volatility.value)\n",
    "        underlying_price = ql.SimpleQuote(underlying.value)\n",
    "\n",
    "        ql.Settings.instance().evaluation_date = valuation_date\n",
    "        process = qb.getProcess(interest_rate,dividend_rate,underlying_price,volatility_rate)\n",
    "        opt = qb.getAmericanOption(valuation_date, expiry_date, put_or_call,strike_price, process)\n",
    "        price = qb.getAmericanPrice(opt)\n",
    "        print(\"Price: {}\".format(price))\n",
    "        print(\"Implied Volatility: {}\".format(implied_volatility_rate))\n",
    "    \n",
    "\n",
    "\n",
    "\n",
    "button.on_click(on_button_clicked)\n",
    "\n",
    "\n",
    "\n",
    "    \n"
   ]
  },
  {
   "cell_type": "code",
   "execution_count": 2,
   "outputs": [
    {
     "ename": "NameError",
     "evalue": "name 'opt' is not defined",
     "output_type": "error",
     "traceback": [
      "\u001B[0;31m---------------------------------------------------------------------------\u001B[0m",
      "\u001B[0;31mNameError\u001B[0m                                 Traceback (most recent call last)",
      "\u001B[0;32m<ipython-input-2-3125ea6f188a>\u001B[0m in \u001B[0;36m<module>\u001B[0;34m\u001B[0m\n\u001B[0;32m----> 1\u001B[0;31m \u001B[0mimplied_volatility_rate\u001B[0m \u001B[0;34m=\u001B[0m \u001B[0mopt\u001B[0m\u001B[0;34m.\u001B[0m\u001B[0mimpliedVolatility\u001B[0m\u001B[0;34m(\u001B[0m\u001B[0mmarket_value\u001B[0m\u001B[0;34m,\u001B[0m \u001B[0mprocess\u001B[0m\u001B[0;34m)\u001B[0m\u001B[0;34m\u001B[0m\u001B[0;34m\u001B[0m\u001B[0m\n\u001B[0m\u001B[1;32m      2\u001B[0m \u001B[0;34m\u001B[0m\u001B[0m\n\u001B[1;32m      3\u001B[0m \u001B[0;34m\u001B[0m\u001B[0m\n\u001B[1;32m      4\u001B[0m \u001B[0;34m\u001B[0m\u001B[0m\n",
      "\u001B[0;31mNameError\u001B[0m: name 'opt' is not defined"
     ]
    }
   ],
   "source": [
    "\n",
    "implied_volatility_rate = opt.impliedVolatility(market_value, process)\n",
    "\n"
   ],
   "metadata": {
    "collapsed": false,
    "pycharm": {
     "name": "#%%\n"
    }
   }
  },
  {
   "cell_type": "code",
   "execution_count": 11,
   "metadata": {},
   "outputs": [
    {
     "ename": "RuntimeError",
     "evalue": "root not bracketed: f[0.0001,4] -> [-2.100000e+00,-2.095363e+00]",
     "output_type": "error",
     "traceback": [
      "\u001B[0;31m---------------------------------------------------------------------------\u001B[0m",
      "\u001B[0;31mRuntimeError\u001B[0m                              Traceback (most recent call last)",
      "\u001B[0;32m<ipython-input-11-7bfdc13c2ecc>\u001B[0m in \u001B[0;36m<module>\u001B[0;34m\u001B[0m\n\u001B[0;32m----> 1\u001B[0;31m \u001B[0mimplied_volatility_rate\u001B[0m \u001B[0;34m=\u001B[0m \u001B[0mopt\u001B[0m\u001B[0;34m.\u001B[0m\u001B[0mimpliedVolatility\u001B[0m\u001B[0;34m(\u001B[0m\u001B[0mmarket_value\u001B[0m\u001B[0;34m,\u001B[0m \u001B[0mprocess\u001B[0m\u001B[0;34m)\u001B[0m\u001B[0;34m\u001B[0m\u001B[0;34m\u001B[0m\u001B[0m\n\u001B[0m",
      "\u001B[0;32m~/opt/anaconda3/lib/python3.7/site-packages/QuantLib/QuantLib.py\u001B[0m in \u001B[0;36mimpliedVolatility\u001B[0;34m(self, targetValue, process, accuracy, maxEvaluations, minVol, maxVol)\u001B[0m\n\u001B[1;32m  11033\u001B[0m \u001B[0;34m\u001B[0m\u001B[0m\n\u001B[1;32m  11034\u001B[0m     \u001B[0;32mdef\u001B[0m \u001B[0mimpliedVolatility\u001B[0m\u001B[0;34m(\u001B[0m\u001B[0mself\u001B[0m\u001B[0;34m,\u001B[0m \u001B[0mtargetValue\u001B[0m\u001B[0;34m,\u001B[0m \u001B[0mprocess\u001B[0m\u001B[0;34m,\u001B[0m \u001B[0maccuracy\u001B[0m\u001B[0;34m=\u001B[0m\u001B[0;36m1.0e-4\u001B[0m\u001B[0;34m,\u001B[0m \u001B[0mmaxEvaluations\u001B[0m\u001B[0;34m=\u001B[0m\u001B[0;36m100\u001B[0m\u001B[0;34m,\u001B[0m \u001B[0mminVol\u001B[0m\u001B[0;34m=\u001B[0m\u001B[0;36m1.0e-4\u001B[0m\u001B[0;34m,\u001B[0m \u001B[0mmaxVol\u001B[0m\u001B[0;34m=\u001B[0m\u001B[0;36m4.0\u001B[0m\u001B[0;34m)\u001B[0m\u001B[0;34m:\u001B[0m\u001B[0;34m\u001B[0m\u001B[0;34m\u001B[0m\u001B[0m\n\u001B[0;32m> 11035\u001B[0;31m         \u001B[0;32mreturn\u001B[0m \u001B[0m_QuantLib\u001B[0m\u001B[0;34m.\u001B[0m\u001B[0mVanillaOption_impliedVolatility\u001B[0m\u001B[0;34m(\u001B[0m\u001B[0mself\u001B[0m\u001B[0;34m,\u001B[0m \u001B[0mtargetValue\u001B[0m\u001B[0;34m,\u001B[0m \u001B[0mprocess\u001B[0m\u001B[0;34m,\u001B[0m \u001B[0maccuracy\u001B[0m\u001B[0;34m,\u001B[0m \u001B[0mmaxEvaluations\u001B[0m\u001B[0;34m,\u001B[0m \u001B[0mminVol\u001B[0m\u001B[0;34m,\u001B[0m \u001B[0mmaxVol\u001B[0m\u001B[0;34m)\u001B[0m\u001B[0;34m\u001B[0m\u001B[0;34m\u001B[0m\u001B[0m\n\u001B[0m\u001B[1;32m  11036\u001B[0m \u001B[0;34m\u001B[0m\u001B[0m\n\u001B[1;32m  11037\u001B[0m     \u001B[0;32mdef\u001B[0m \u001B[0mpriceCurve\u001B[0m\u001B[0;34m(\u001B[0m\u001B[0mself\u001B[0m\u001B[0;34m)\u001B[0m\u001B[0;34m:\u001B[0m\u001B[0;34m\u001B[0m\u001B[0;34m\u001B[0m\u001B[0m\n",
      "\u001B[0;31mRuntimeError\u001B[0m: root not bracketed: f[0.0001,4] -> [-2.100000e+00,-2.095363e+00]"
     ]
    }
   ],
   "source": []
  },
  {
   "cell_type": "code",
   "execution_count": null,
   "metadata": {},
   "outputs": [],
   "source": []
  }
 ],
 "metadata": {
  "celltoolbar": "Edit Metadata",
  "kernelspec": {
   "display_name": "Python 3",
   "language": "python",
   "name": "python3"
  },
  "language_info": {
   "codemirror_mode": {
    "name": "ipython",
    "version": 3
   },
   "file_extension": ".py",
   "mimetype": "text/x-python",
   "name": "python",
   "nbconvert_exporter": "python",
   "pygments_lexer": "ipython3",
   "version": "3.7.6"
  }
 },
 "nbformat": 4,
 "nbformat_minor": 1
}