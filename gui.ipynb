{
 "cells": [
  {
   "cell_type": "code",
   "execution_count": 17,
   "metadata": {},
   "outputs": [
    {
     "data": {
      "application/vnd.jupyter.widget-view+json": {
       "model_id": "5214b4dc7ec84ae6942e67688d6bcf82",
       "version_major": 2,
       "version_minor": 0
      },
      "text/plain": [
       "RadioButtons(description='Option:', index=1, options=('Call', 'Put'), value='Put')"
      ]
     },
     "metadata": {},
     "output_type": "display_data"
    },
    {
     "data": {
      "application/vnd.jupyter.widget-view+json": {
       "model_id": "f5a2c881204a440680e749ecaec3bda7",
       "version_major": 2,
       "version_minor": 0
      },
      "text/plain": [
       "DatePicker(value=datetime.date(2020, 9, 13), description='Value Date')"
      ]
     },
     "metadata": {},
     "output_type": "display_data"
    },
    {
     "data": {
      "application/vnd.jupyter.widget-view+json": {
       "model_id": "f65d53017c24458ca7ab4b67396004c3",
       "version_major": 2,
       "version_minor": 0
      },
      "text/plain": [
       "DatePicker(value=datetime.datetime(2020, 10, 13, 0, 0), description='expiry Date')"
      ]
     },
     "metadata": {},
     "output_type": "display_data"
    },
    {
     "data": {
      "application/vnd.jupyter.widget-view+json": {
       "model_id": "b279eb1f436b4b639ae019fc86045fbf",
       "version_major": 2,
       "version_minor": 0
      },
      "text/plain": [
       "FloatText(value=35.0, description='Strike:')"
      ]
     },
     "metadata": {},
     "output_type": "display_data"
    },
    {
     "data": {
      "application/vnd.jupyter.widget-view+json": {
       "model_id": "d04ee5d2d48c43488c076f8c0ed86fb5",
       "version_major": 2,
       "version_minor": 0
      },
      "text/plain": [
       "FloatText(value=32.0, description='Underlying:')"
      ]
     },
     "metadata": {},
     "output_type": "display_data"
    },
    {
     "data": {
      "application/vnd.jupyter.widget-view+json": {
       "model_id": "5560d4675f894af18338f5e7b78ca471",
       "version_major": 2,
       "version_minor": 0
      },
      "text/plain": [
       "FloatSlider(value=0.25, description='Dividend', max=2.0, step=0.05)"
      ]
     },
     "metadata": {},
     "output_type": "display_data"
    },
    {
     "data": {
      "application/vnd.jupyter.widget-view+json": {
       "model_id": "20dad20939354d12b61cf7e7abad56b4",
       "version_major": 2,
       "version_minor": 0
      },
      "text/plain": [
       "FloatSlider(value=0.25, description='Interest:', max=2.0, step=0.05)"
      ]
     },
     "metadata": {},
     "output_type": "display_data"
    },
    {
     "data": {
      "application/vnd.jupyter.widget-view+json": {
       "model_id": "6e85059becf84a27ba0285c0914cbd90",
       "version_major": 2,
       "version_minor": 0
      },
      "text/plain": [
       "FloatSlider(value=0.56, description='Volatility', max=1.0, step=0.01)"
      ]
     },
     "metadata": {},
     "output_type": "display_data"
    },
    {
     "data": {
      "application/vnd.jupyter.widget-view+json": {
       "model_id": "780ce222031945fbb55f59db957f465a",
       "version_major": 2,
       "version_minor": 0
      },
      "text/plain": [
       "Button(description='Price', style=ButtonStyle())"
      ]
     },
     "metadata": {},
     "output_type": "display_data"
    },
    {
     "data": {
      "application/vnd.jupyter.widget-view+json": {
       "model_id": "eef1a60b32474127a75a6d194bb4f5cd",
       "version_major": 2,
       "version_minor": 0
      },
      "text/plain": [
       "Output()"
      ]
     },
     "metadata": {},
     "output_type": "display_data"
    }
   ],
   "source": [
    "# from IPython.core.display import display\n",
    "import QLIB as qb\n",
    "import ipywidgets as widgets\n",
    "import QuantLib as ql\n",
    "from datetime import date\n",
    "from datetime import datetime\n",
    "\n",
    "today = date.today()\n",
    "_expiry = datetime(today.year,today.month+1,today.day)\n",
    "\n",
    "button = widgets.Button(description=\"Price\")\n",
    "button_1 = widgets.Button(description=\"Implied Volatility\")\n",
    "output = widgets.Output()\n",
    "\n",
    "option_type = widgets.RadioButtons(\n",
    "    options=['Call', 'Put'],\n",
    "    value='Put', # Defaults to 'pineapple'\n",
    "#    layout={'width': 'max-content'}, # If the items' names are long\n",
    "    description='Option:',\n",
    "    disabled=False\n",
    ")\n",
    "\n",
    "\n",
    "value_date = widgets.DatePicker(\n",
    "    description='Value Date',\n",
    "    value = today,\n",
    "    disabled=False\n",
    ")\n",
    "\n",
    "\n",
    "expiry = widgets.DatePicker(\n",
    "    description='expiry Date',\n",
    "    value = _expiry,\n",
    "    disabled=False\n",
    ")\n",
    "\n",
    "\n",
    "interest= widgets.FloatSlider(\n",
    "    value=0.25,\n",
    "    min=0,\n",
    "    max=2,\n",
    "    step=0.05,\n",
    "    description='Interest:',\n",
    "    disabled=False,\n",
    "    continuous_update=True,\n",
    "    orientation='horizontal',\n",
    "\n",
    ")\n",
    "\n",
    "dividend= widgets.FloatSlider(\n",
    "    value=0.25,\n",
    "    min=0,\n",
    "    max=2,\n",
    "    step=0.05,\n",
    "    description='Dividend',\n",
    "    disabled=False,\n",
    "    continuous_update=True,\n",
    "    orientation='horizontal',\n",
    "\n",
    ")\n",
    "\n",
    "volatility= widgets.FloatSlider(\n",
    "    value=0.56,\n",
    "    min=0,\n",
    "    max=1,\n",
    "    step=0.01,\n",
    "    description='Volatility',\n",
    "    disabled=False,\n",
    "    continuous_update=True,\n",
    "    orientation='horizontal',\n",
    "\n",
    ")\n",
    "\n",
    "\n",
    "strike = widgets.FloatText(\n",
    "    value=35,\n",
    "    description='Strike:',\n",
    "    disabled=False\n",
    ")\n",
    "\n",
    "\n",
    "underlying = widgets.FloatText(\n",
    "    value=32,\n",
    "    description='Underlying:',\n",
    "    disabled=False\n",
    ")\n",
    "\n",
    "\n",
    "display(option_type)\n",
    "display(value_date)\n",
    "display(expiry)\n",
    "display(strike)\n",
    "display(underlying)\n",
    "display(dividend)\n",
    "display(interest)\n",
    "display(volatility)\n",
    "display(button, output)\n",
    "\n",
    "\n",
    "\n",
    "\n",
    "\n",
    "\n",
    "\n",
    "\n",
    "\n",
    "implied_volatility_rate = 1\n",
    "\n",
    "def on_button_clicked(b):\n",
    "    with output:\n",
    "        valuation_date = ql.Date(value_date.value.day, value_date.value.month, value_date.value.year)\n",
    "        expiry_date = ql.Date(expiry.value.day, expiry.value.month, expiry.value.year)\n",
    "        strike_price = float(strike.value)\n",
    "        put_or_call = ql.Option.Call if option_type == 'Call' else ql.Option.Put\n",
    "\n",
    "        #Market data\n",
    "        interest_rate = ql.SimpleQuote(interest.value/100)\n",
    "        #See idivs.org for expected dividend yields\n",
    "        dividend_rate = ql.SimpleQuote(dividend.value/100)\n",
    "        #Dummy volatility necessary to setup process\n",
    "        volatility_rate = ql.SimpleQuote(volatility.value)\n",
    "        underlying_price = ql.SimpleQuote(underlying.value)\n",
    "\n",
    "        ql.Settings.instance().evaluation_date = valuation_date\n",
    "        process = qb.getProcess(interest_rate,dividend_rate,underlying_price,volatility_rate)\n",
    "        opt = qb.getAmericanOption(valuation_date, expiry_date, put_or_call,strike_price, process)\n",
    "        price = qb.getAmericanPrice(opt)\n",
    "        print(\"Price: {}\".format(price))\n",
    "        print(\"Implied Volatility: {}\".format(implied_volatility_rate))\n",
    "    \n",
    "\n",
    "\n",
    "\n",
    "button.on_click(on_button_clicked)\n",
    "\n",
    "\n",
    "\n",
    "    \n"
   ]
  },
  {
   "cell_type": "code",
   "execution_count": 11,
   "metadata": {},
   "outputs": [
    {
     "ename": "RuntimeError",
     "evalue": "root not bracketed: f[0.0001,4] -> [-2.100000e+00,-2.095363e+00]",
     "output_type": "error",
     "traceback": [
      "\u001b[0;31m---------------------------------------------------------------------------\u001b[0m",
      "\u001b[0;31mRuntimeError\u001b[0m                              Traceback (most recent call last)",
      "\u001b[0;32m<ipython-input-11-7bfdc13c2ecc>\u001b[0m in \u001b[0;36m<module>\u001b[0;34m\u001b[0m\n\u001b[0;32m----> 1\u001b[0;31m \u001b[0mimplied_volatility_rate\u001b[0m \u001b[0;34m=\u001b[0m \u001b[0mopt\u001b[0m\u001b[0;34m.\u001b[0m\u001b[0mimpliedVolatility\u001b[0m\u001b[0;34m(\u001b[0m\u001b[0mmarket_value\u001b[0m\u001b[0;34m,\u001b[0m \u001b[0mprocess\u001b[0m\u001b[0;34m)\u001b[0m\u001b[0;34m\u001b[0m\u001b[0;34m\u001b[0m\u001b[0m\n\u001b[0m",
      "\u001b[0;32m~/opt/anaconda3/lib/python3.7/site-packages/QuantLib/QuantLib.py\u001b[0m in \u001b[0;36mimpliedVolatility\u001b[0;34m(self, targetValue, process, accuracy, maxEvaluations, minVol, maxVol)\u001b[0m\n\u001b[1;32m  11033\u001b[0m \u001b[0;34m\u001b[0m\u001b[0m\n\u001b[1;32m  11034\u001b[0m     \u001b[0;32mdef\u001b[0m \u001b[0mimpliedVolatility\u001b[0m\u001b[0;34m(\u001b[0m\u001b[0mself\u001b[0m\u001b[0;34m,\u001b[0m \u001b[0mtargetValue\u001b[0m\u001b[0;34m,\u001b[0m \u001b[0mprocess\u001b[0m\u001b[0;34m,\u001b[0m \u001b[0maccuracy\u001b[0m\u001b[0;34m=\u001b[0m\u001b[0;36m1.0e-4\u001b[0m\u001b[0;34m,\u001b[0m \u001b[0mmaxEvaluations\u001b[0m\u001b[0;34m=\u001b[0m\u001b[0;36m100\u001b[0m\u001b[0;34m,\u001b[0m \u001b[0mminVol\u001b[0m\u001b[0;34m=\u001b[0m\u001b[0;36m1.0e-4\u001b[0m\u001b[0;34m,\u001b[0m \u001b[0mmaxVol\u001b[0m\u001b[0;34m=\u001b[0m\u001b[0;36m4.0\u001b[0m\u001b[0;34m)\u001b[0m\u001b[0;34m:\u001b[0m\u001b[0;34m\u001b[0m\u001b[0;34m\u001b[0m\u001b[0m\n\u001b[0;32m> 11035\u001b[0;31m         \u001b[0;32mreturn\u001b[0m \u001b[0m_QuantLib\u001b[0m\u001b[0;34m.\u001b[0m\u001b[0mVanillaOption_impliedVolatility\u001b[0m\u001b[0;34m(\u001b[0m\u001b[0mself\u001b[0m\u001b[0;34m,\u001b[0m \u001b[0mtargetValue\u001b[0m\u001b[0;34m,\u001b[0m \u001b[0mprocess\u001b[0m\u001b[0;34m,\u001b[0m \u001b[0maccuracy\u001b[0m\u001b[0;34m,\u001b[0m \u001b[0mmaxEvaluations\u001b[0m\u001b[0;34m,\u001b[0m \u001b[0mminVol\u001b[0m\u001b[0;34m,\u001b[0m \u001b[0mmaxVol\u001b[0m\u001b[0;34m)\u001b[0m\u001b[0;34m\u001b[0m\u001b[0;34m\u001b[0m\u001b[0m\n\u001b[0m\u001b[1;32m  11036\u001b[0m \u001b[0;34m\u001b[0m\u001b[0m\n\u001b[1;32m  11037\u001b[0m     \u001b[0;32mdef\u001b[0m \u001b[0mpriceCurve\u001b[0m\u001b[0;34m(\u001b[0m\u001b[0mself\u001b[0m\u001b[0;34m)\u001b[0m\u001b[0;34m:\u001b[0m\u001b[0;34m\u001b[0m\u001b[0;34m\u001b[0m\u001b[0m\n",
      "\u001b[0;31mRuntimeError\u001b[0m: root not bracketed: f[0.0001,4] -> [-2.100000e+00,-2.095363e+00]"
     ]
    }
   ],
   "source": [
    "\n",
    "implied_volatility_rate = opt.impliedVolatility(market_value, process)\n"
   ]
  },
  {
   "cell_type": "code",
   "execution_count": null,
   "metadata": {},
   "outputs": [],
   "source": []
  }
 ],
 "metadata": {
  "celltoolbar": "Edit Metadata",
  "kernelspec": {
   "display_name": "Python 3",
   "language": "python",
   "name": "python3"
  },
  "language_info": {
   "codemirror_mode": {
    "name": "ipython",
    "version": 3
   },
   "file_extension": ".py",
   "mimetype": "text/x-python",
   "name": "python",
   "nbconvert_exporter": "python",
   "pygments_lexer": "ipython3",
   "version": "3.7.6"
  }
 },
 "nbformat": 4,
 "nbformat_minor": 1
}
